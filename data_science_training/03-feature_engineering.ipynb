{
 "cells": [
  {
   "cell_type": "markdown",
   "metadata": {},
   "source": [
    "# 03 - Feature Engineering\n",
    "A \"feature\" is any measurable input that can be used in a predictive model.\n",
    "\n",
    "Feature engineering is the process of transforming raw data into a set of inputs that can be used more effectively by machine learning models.\n",
    "\n",
    "The success of machine learning models depends heavily on the quality of the features used to train them. Feature engineering is a set of techniques that allow us to create new features by combining or transforming existing features.\n",
    "\n",
    "## Overview\n",
    "1. Handling missing data\n",
    "    * 1.1. Missing data Completely at Random (MCAR)\n",
    "    * 1.2. Missing data Not at Random (MNAR)\n",
    "    * 1.3. Missing data at Random (MAR)\n",
    "2. Scaling or normalizing data\n",
    "    * 2.1. Min-Max Scaling\n",
    "    * 2.2. Standardization or Z-score normalization\n",
    "3. Applying data transformations\n",
    "    * 3.1. Logarithm transformations\n",
    "    * 3.2. Power transformations\n",
    "    * 3.3. Box-Cox transformations\n",
    "    * 3.4. Exponential transformations\n",
    "4. Dealing with categorical data\n",
    "    * 4.1. One-hot encoding\n",
    "    * 4.2. Label encoding\n",
    "    * 4.3. Target encoding\n",
    "5. Creating new features or Calculated fields\n",
    "6. Feature selection\n",
    "    * 6.1. Filter methods\n",
    "        * 6.1.1. Information gain\n",
    "        * 6.1.2. Chi-square test\n",
    "        * 6.1.3. Variance Inflation Factor (VIF) and PCA for multicollinearity\n",
    "    * 6.2. Wrapper methods\n",
    "        * 6.2.1. Recursive Feature Elimination (RFE)\n",
    "    * 6.3. Embedded methods\n",
    "        * 6.3.1. L1 regularization or LASSO\n",
    "7. Handling imbalanced data\n",
    "    * 7.1. Methods\n",
    "    * 7.2. Cross-validation\n",
    "8. Reducing dimensionality\n",
    "    * 8.1. Principal Component Analysis (PCA)\n",
    "    * 8.2. Singular Value Decomposition (SVD)\n",
    "    * 8.3. t-Distributed Stochastic Neighbor Embedding (t-SNE)\n",
    "    * 8.4. Autoencoders\n",
    "9. Data transformation pipelines"
   ]
  },
  {
   "cell_type": "code",
   "execution_count": 1,
   "metadata": {},
   "outputs": [],
   "source": [
    "import os\n",
    "import random\n",
    "\n",
    "import pandas as pd\n",
    "import numpy as np\n",
    "import matplotlib.pyplot as plt\n",
    "from imblearn.over_sampling import SMOTE\n",
    "from scipy.stats import boxcox\n",
    "from statsmodels.stats.outliers_influence import variance_inflation_factor\n",
    "from sklearn.feature_selection import mutual_info_classif, chi2, RFE, SelectFromModel\n",
    "from sklearn.linear_model import LogisticRegression, Lasso, LinearRegression\n",
    "from sklearn.model_selection import train_test_split, cross_val_score, LeaveOneOut\n",
    "from sklearn.preprocessing import StandardScaler\n",
    "from sklearn.tree import DecisionTreeClassifier\n",
    "from sklearn.metrics import accuracy_score\n",
    "from sklearn.utils import resample\n",
    "from sklearn.decomposition import PCA\n",
    "from sklearn.manifold import TSNE\n",
    "from sklearn.pipeline import Pipeline\n",
    "from tensorflow.keras.layers import Input, Dense\n",
    "from tensorflow.keras.models import Model\n",
    "\n",
    "from sklearn.datasets import load_breast_cancer, load_iris, fetch_california_housing\n",
    "mainpath = \"../data/\"\n",
    "\n",
    "np.random.seed(42)"
   ]
  },
  {
   "cell_type": "markdown",
   "metadata": {},
   "source": [
    "## 1. Handling missing data\n",
    "\n",
    "Handling missing data is a common data preprocessing task before applying machine learning algorithms. Missing data can introduce bias, error, and instability into the analysis, leading to incomplete or misleading results. In addition, some algorithms cannot handle missing data directly."
   ]
  },
  {
   "cell_type": "code",
   "execution_count": 2,
   "metadata": {},
   "outputs": [
    {
     "name": "stdout",
     "output_type": "stream",
     "text": [
      "A    1\n",
      "B    1\n",
      "C    1\n",
      "dtype: int64\n"
     ]
    },
    {
     "data": {
      "text/html": [
       "<div>\n",
       "<style scoped>\n",
       "    .dataframe tbody tr th:only-of-type {\n",
       "        vertical-align: middle;\n",
       "    }\n",
       "\n",
       "    .dataframe tbody tr th {\n",
       "        vertical-align: top;\n",
       "    }\n",
       "\n",
       "    .dataframe thead th {\n",
       "        text-align: right;\n",
       "    }\n",
       "</style>\n",
       "<table border=\"1\" class=\"dataframe\">\n",
       "  <thead>\n",
       "    <tr style=\"text-align: right;\">\n",
       "      <th></th>\n",
       "      <th>A</th>\n",
       "      <th>B</th>\n",
       "      <th>C</th>\n",
       "    </tr>\n",
       "  </thead>\n",
       "  <tbody>\n",
       "    <tr>\n",
       "      <th>0</th>\n",
       "      <td>1.0</td>\n",
       "      <td>6.0</td>\n",
       "      <td>11.0</td>\n",
       "    </tr>\n",
       "    <tr>\n",
       "      <th>1</th>\n",
       "      <td>2.0</td>\n",
       "      <td>NaN</td>\n",
       "      <td>12.0</td>\n",
       "    </tr>\n",
       "    <tr>\n",
       "      <th>2</th>\n",
       "      <td>NaN</td>\n",
       "      <td>8.0</td>\n",
       "      <td>13.0</td>\n",
       "    </tr>\n",
       "    <tr>\n",
       "      <th>3</th>\n",
       "      <td>4.0</td>\n",
       "      <td>9.0</td>\n",
       "      <td>14.0</td>\n",
       "    </tr>\n",
       "    <tr>\n",
       "      <th>4</th>\n",
       "      <td>5.0</td>\n",
       "      <td>10.0</td>\n",
       "      <td>NaN</td>\n",
       "    </tr>\n",
       "  </tbody>\n",
       "</table>\n",
       "</div>"
      ],
      "text/plain": [
       "     A     B     C\n",
       "0  1.0   6.0  11.0\n",
       "1  2.0   NaN  12.0\n",
       "2  NaN   8.0  13.0\n",
       "3  4.0   9.0  14.0\n",
       "4  5.0  10.0   NaN"
      ]
     },
     "execution_count": 2,
     "metadata": {},
     "output_type": "execute_result"
    }
   ],
   "source": [
    "# Sample dataset with missing values\n",
    "data = {\n",
    "    'A': [1, 2, None, 4, 5],\n",
    "    'B': [6, None, 8, 9, 10],\n",
    "    'C': [11, 12, 13, 14, None]\n",
    "}\n",
    "df = pd.DataFrame(data)\n",
    "\n",
    "# Check for missing values in the dataset. \n",
    "print(df.isnull().sum())  # Columns B and C are missing one data point.\n",
    "df.head()"
   ]
  },
  {
   "cell_type": "markdown",
   "metadata": {},
   "source": [
    "The choice of how to handle missing data depends on the nature of the missingness, the dataset, and the goals of the analysis. Identifying patterns of missingness can reveal the reasons for the missing values and help you decide how to handle them.\n",
    "\n",
    "Always consider the potential impact of the imputation on the overall analysis and modeling results.\n",
    "\n",
    "There are three main missingness patterns:\n",
    "* Missing data Completely at Random (MCAR)\n",
    "* Missing data Not at Random (MNAR)\n",
    "* Missing data at Random (MAR)\n",
    "\n",
    "### 1.1. Missing data Completely at Random (MCAR)\n",
    "Missingness occurs randomly and is unrelated to any other variable in the dataset. One common approach to handling MCAR is to simply **remove the rows with missing values**:"
   ]
  },
  {
   "cell_type": "code",
   "execution_count": 3,
   "metadata": {},
   "outputs": [],
   "source": [
    "cleaned_df = df.dropna()"
   ]
  },
  {
   "cell_type": "markdown",
   "metadata": {},
   "source": [
    "### 1.2. Missing data Not at Random (MNAR)\n",
    "Missingness is related to unobserved or unrecorded values that are not random and may be related to the value itself. A common technique to handle MNAR is to use **imputation methods** to fill in the missing values, based on other available information:"
   ]
  },
  {
   "cell_type": "code",
   "execution_count": 4,
   "metadata": {},
   "outputs": [
    {
     "name": "stdout",
     "output_type": "stream",
     "text": [
      "Age       0\n",
      "Income    0\n",
      "dtype: int64\n"
     ]
    },
    {
     "data": {
      "text/html": [
       "<div>\n",
       "<style scoped>\n",
       "    .dataframe tbody tr th:only-of-type {\n",
       "        vertical-align: middle;\n",
       "    }\n",
       "\n",
       "    .dataframe tbody tr th {\n",
       "        vertical-align: top;\n",
       "    }\n",
       "\n",
       "    .dataframe thead th {\n",
       "        text-align: right;\n",
       "    }\n",
       "</style>\n",
       "<table border=\"1\" class=\"dataframe\">\n",
       "  <thead>\n",
       "    <tr style=\"text-align: right;\">\n",
       "      <th></th>\n",
       "      <th>Age</th>\n",
       "      <th>Income</th>\n",
       "    </tr>\n",
       "  </thead>\n",
       "  <tbody>\n",
       "    <tr>\n",
       "      <th>0</th>\n",
       "      <td>25.0</td>\n",
       "      <td>50000.000000</td>\n",
       "    </tr>\n",
       "    <tr>\n",
       "      <th>1</th>\n",
       "      <td>30.0</td>\n",
       "      <td>71666.666667</td>\n",
       "    </tr>\n",
       "    <tr>\n",
       "      <th>2</th>\n",
       "      <td>35.0</td>\n",
       "      <td>75000.000000</td>\n",
       "    </tr>\n",
       "    <tr>\n",
       "      <th>3</th>\n",
       "      <td>40.0</td>\n",
       "      <td>90000.000000</td>\n",
       "    </tr>\n",
       "    <tr>\n",
       "      <th>4</th>\n",
       "      <td>45.0</td>\n",
       "      <td>71666.666667</td>\n",
       "    </tr>\n",
       "  </tbody>\n",
       "</table>\n",
       "</div>"
      ],
      "text/plain": [
       "    Age        Income\n",
       "0  25.0  50000.000000\n",
       "1  30.0  71666.666667\n",
       "2  35.0  75000.000000\n",
       "3  40.0  90000.000000\n",
       "4  45.0  71666.666667"
      ]
     },
     "execution_count": 4,
     "metadata": {},
     "output_type": "execute_result"
    }
   ],
   "source": [
    "# Sample dataset with missing values (MNAR)\n",
    "data = {\n",
    "    'Age': [25, 30, None, 40, 45],\n",
    "    'Income': [50000, None, 75000, 90000, None]\n",
    "}\n",
    "df = pd.DataFrame(data)\n",
    "\n",
    "# Impute missing values with the mean of the 'Age' column\n",
    "df.fillna({'Age': df['Age'].mean()}, inplace=True)\n",
    "# Impute missing values with the mean of the 'Income' column\n",
    "df.fillna({'Income': df['Income'].mean()}, inplace=True)\n",
    "\n",
    "# Check for missing values in the dataset. \n",
    "print(df.isnull().sum())  # Columns B and C are missing one data point.\n",
    "df.head()"
   ]
  },
  {
   "cell_type": "markdown",
   "metadata": {},
   "source": [
    "### 1.3. Missing data at Random (MAR)\n",
    "Missingness is systematic but depends only on the observed variables. A popular way to deal with MAR is to use conditional imputation, where the imputed value depends on the values of other variables:"
   ]
  },
  {
   "cell_type": "code",
   "execution_count": 5,
   "metadata": {},
   "outputs": [],
   "source": [
    "# Sample dataset with missing values (MAR)\n",
    "data = {\n",
    "    'Gender': ['Male', None, None, 'Male', 'Female'],\n",
    "    'Income': ['80-100k', '100-120k', '80-100k', '80-100k',\n",
    "               '100-120k']\n",
    "}\n",
    "df = pd.DataFrame(data)\n",
    "# Impute 'Gender' based on the mode of 'Gender' for the corresponding 'Income' value\n",
    "mode_by_income = df.groupby('Income')['Gender'].apply(lambda x: x.mode().iloc[0])\n",
    "#df['Gender'].fillna(df['Income'].map(mode_by_income),inplace=True)\n",
    "df.fillna({'Gender': df['Income'].map(mode_by_income)}, inplace=True)"
   ]
  },
  {
   "cell_type": "markdown",
   "metadata": {},
   "source": [
    "## 2. Scaling data\n",
    "\n",
    "Normalizing/scaling are preprocessing techniques that transform the features of the data into a\n",
    "consistent and comparable range, enabling algorithms to work more efficiently and producing accurate\n",
    "and reliable results. \n",
    "Two of the most commonly used normalizing/scaling techniques are:\n",
    "* Min-max scaling\n",
    "* z-score scaling.\n",
    "\n",
    "**Note:** You should scale your data after performing the train-test split to avoid data leakage."
   ]
  },
  {
   "cell_type": "markdown",
   "metadata": {},
   "source": [
    "### 2.1. Min-Max Scaling\n",
    "Min-max scaling is a technique that scales the data (typically the inputs) to a fixed range, typically\n",
    "[0, 1]. It transforms the data in such a way that the minimum value of the feature becomes 0 and the\n",
    "maximum value becomes 1.\n",
    "\n",
    "formula:\n",
    "$$X_{normalized} = \\frac{X - X_{min}}{X_{max} - X_{min}}$$\n",
    "\n",
    "Here, X_min is the minimum value in the feature and X_max is the maximum value in the feature. The result is a min-max scaled feature that falls within the [0, 1] range.\n",
    "\n",
    "Min-max scaling is sensitive to outliers, as it compresses the data into a fixed range. If the data contains outliers, min-max scaling may not be the best choice.\n",
    "\n",
    "It is specifically useful when working with distance-based algorithms (k-NN, SVM, hierarchical clustering, PCA, etc.). Min-max scaling ensures that each feature contributes equally to the distance calculations."
   ]
  },
  {
   "cell_type": "code",
   "execution_count": 6,
   "metadata": {},
   "outputs": [
    {
     "name": "stdout",
     "output_type": "stream",
     "text": [
      "Original data: , [-5  2  3  4  5]\n",
      "Saled data:  [0.  0.7 0.8 0.9 1. ]\n"
     ]
    }
   ],
   "source": [
    "# Sample data\n",
    "x = np.array([-5, 2, 3, 4, 5])\n",
    "x_min = x.min()\n",
    "x_max = x.max()\n",
    "\n",
    "# Min-Max scaling\n",
    "x_min_max = (x - x_min) / (x_max - x_min)\n",
    "print(\"Original data: ,\", x)\n",
    "print(\"Saled data: \", x_min_max)"
   ]
  },
  {
   "cell_type": "markdown",
   "metadata": {},
   "source": [
    "### 2.2. Standardization or Z-score normalization\n",
    "Z-score scaling is a technique that transforms data to have a mean of 0 and a standard deviation of 1. It centers the data around the mean and scales it relative to the spread of the data (the standard deviation).\n",
    "\n",
    "The formula for scaling each data point, X, in a feature is given by:\n",
    "$$X_{normalized} = \\frac{X - \\mu}{\\sigma}$$\n",
    "\n",
    "Z-score scaling is particularly useful for the following:\n",
    "* Feature influence: Some machine learning algorithms can be significantly influenced by the\n",
    "scale and range of the input features, and z-scaling helps this issue\n",
    "* Dealing with outliers: Z-scaling is less sensitive to outliers compared to min-max scaling"
   ]
  },
  {
   "cell_type": "code",
   "execution_count": 7,
   "metadata": {},
   "outputs": [
    {
     "name": "stdout",
     "output_type": "stream",
     "text": [
      "Original data: , [-5  2  3  4  5]\n",
      "Saled data:  [-1.918731    0.05643326  0.33859959  0.62076591  0.90293224]\n"
     ]
    }
   ],
   "source": [
    "# Sample data\n",
    "x = np.array([-5, 2, 3, 4, 5])\n",
    "x_mean = x.mean()\n",
    "x_std = x.std()\n",
    "\n",
    "# Min-Max scaling\n",
    "x_z_score = (x - x_mean) / x_std\n",
    "print(\"Original data: ,\", x)\n",
    "print(\"Saled data: \", x_z_score)"
   ]
  },
  {
   "cell_type": "code",
   "execution_count": 8,
   "metadata": {},
   "outputs": [
    {
     "data": {
      "text/plain": [
       "array([-1.918731  ,  0.05643326,  0.33859959,  0.62076591,  0.90293224])"
      ]
     },
     "execution_count": 8,
     "metadata": {},
     "output_type": "execute_result"
    }
   ],
   "source": [
    "# We can also use the StandardScaler class from scikit\n",
    "scaled_data = StandardScaler().fit_transform(x.reshape(-1, 1))\n",
    "# Reshape\n",
    "scaled_data = scaled_data.reshape(-1)\n",
    "scaled_data"
   ]
  },
  {
   "cell_type": "markdown",
   "metadata": {},
   "source": [
    "## 3. Applying data transformations\n",
    "Data transformation is a critical step in data preparation. They ensure that data is prepared for data models with unique requirements. \n",
    "\n",
    "Some of the most common data transformations are:\n",
    "* Logarithm transformations\n",
    "* Power transformations\n",
    "* Box-Cox transformations\n",
    "* Exponential transformations"
   ]
  },
  {
   "cell_type": "markdown",
   "metadata": {},
   "source": [
    "### 3.1. Logarithm transformations\n",
    "Logarithm transformations are used to transform data that is highly skewed, where extreme values cause a long tail in the distribution. The logarithm function is used to **compress** the range of the data, making it easier to visualize and analyze."
   ]
  },
  {
   "cell_type": "code",
   "execution_count": 9,
   "metadata": {},
   "outputs": [
    {
     "data": {
      "image/png": "[encoded data removed]",
      "text/plain": [
       "<Figure size 1000x500 with 2 Axes>"
      ]
     },
     "metadata": {},
     "output_type": "display_data"
    }
   ],
   "source": [
    "# Create a right-skewed dataset\n",
    "sales_data = np.random.exponential(scale=100, size=1000)\n",
    "\n",
    "# Apply logarithmic transformation\n",
    "log_transformed_data = np.log(sales_data)\n",
    "\n",
    "# Plot the original and transformed data distributions\n",
    "plt.figure(figsize=(10, 5))\n",
    "plt.subplot(1, 2, 1)\n",
    "plt.title('Original Data (Right-Skewed)')\n",
    "plt.hist(sales_data, bins=30, edgecolor='black')\n",
    "plt.xlabel('Values')\n",
    "plt.ylabel('Frequency')\n",
    "plt.subplot(1, 2, 2)\n",
    "plt.title('Logarithmic Transformation')\n",
    "plt.hist(log_transformed_data, bins=30, edgecolor='black')\n",
    "plt.xlabel('Log-Transformed Values')\n",
    "plt.ylabel('Frequency')\n",
    "plt.tight_layout()"
   ]
  },
  {
   "cell_type": "markdown",
   "metadata": {},
   "source": [
    "The data distribution on the left does not follow a normal distribution with a distinct bell-shaped pattern. Therefore, if you tried to use this data in a statistical test, such as those discussed in Chapter 2, you would be limited in the types of tests you could use. This is because many statistical tests, such as the one-sample t-test, assume that your data come from a normal distribution, and using the test on non-normal data can invalidate the results. However, the log transformation can make our data more like a normal distribution.\n",
    "\n",
    "**NOTE:** Logarithm transformations are only applicable to positive values. If the data contains zero or negative values, you can add a constant to the data before applying the transformation."
   ]
  },
  {
   "cell_type": "markdown",
   "metadata": {},
   "source": [
    "### 3.2. Power transformations\n",
    "A power transformation is a family of data transformation techniques that involve raising each data\n",
    "point to a power (exponent). Different power values result in different transformations, allowing flexibility in shaping the distribution. Common power transformations include square root transformation (power = 0.5), cube root transformation (power = 1/3), and reciprocal transformation (power = -1).\n",
    "\n",
    "Power transformations are useful for stabilizing variance, reducing skewness, and making the data distribution more symmetrical. This is particularly beneficial for linear modeling."
   ]
  },
  {
   "cell_type": "code",
   "execution_count": 10,
   "metadata": {},
   "outputs": [
    {
     "data": {
      "image/png": "[encoded data removed]",
      "text/plain": [
       "<Figure size 1000x500 with 2 Axes>"
      ]
     },
     "metadata": {},
     "output_type": "display_data"
    }
   ],
   "source": [
    "# Create a right-skewed dataset\n",
    "sales_data = np.random.exponential(scale=100, size=1000)\n",
    "\n",
    "# Apply square root transformation\n",
    "sqrt_transformed_data = np.sqrt(sales_data)\n",
    "\n",
    "# Plot the original and transformed data distributions\n",
    "plt.figure(figsize=(10, 5))\n",
    "plt.subplot(1, 2, 1)\n",
    "plt.title('Original Data (Right-Skewed)')\n",
    "plt.hist(sales_data, bins=30, edgecolor='black')\n",
    "plt.xlabel('Values')\n",
    "plt.ylabel('Frequency')\n",
    "plt.subplot(1, 2, 2)\n",
    "plt.title('Square Root Transformation')\n",
    "plt.hist(sqrt_transformed_data, bins=30, edgecolor='black')\n",
    "plt.xlabel('Square Root Transformed Values')\n",
    "plt.ylabel('Frequency')\n",
    "plt.tight_layout()\n"
   ]
  },
  {
   "cell_type": "markdown",
   "metadata": {},
   "source": [
    "As a result of the transformation, the data becomes less skewed, and the distribution moves closer to a normal distribution."
   ]
  },
  {
   "cell_type": "markdown",
   "metadata": {},
   "source": [
    "### 3.3. Box-Cox transformations\n",
    "A Box-Cox transformation is a family of power transformations that are designed to stabilize variance\n",
    "in our dataset so it closely resemples a normal distribution. The Box-Cox equation can be seen here:\n",
    "\n",
    "$$y(\\lambda) = \\begin{cases} \\frac{y^\\lambda - 1}{\\lambda} & \\text{if } \\lambda \\neq 0 \\\\ \\log(y) & \\text{if } \\lambda = 0 \\end{cases}$$\n",
    "\n",
    "*y* is the original data and *λ* is the transformation parameter. The transformed data is *y(λ)*.\n",
    "\n",
    "The Box-Cox family of transformations also includes both the logarithmic (λ=0) and square root (λ=0.5) transformations as special cases.\n",
    "\n",
    "**Limitation:** \n",
    "* If **interpretation** is your goal, then the Box-Cox transformation may be a poor choice. If lambda is a non-zero number, then the transformed target variable may be more difficult to interpret than if we simply applied a log transform.\n",
    "* This test only works for positive data. It does not work for data that contains zero or negative values."
   ]
  },
  {
   "cell_type": "code",
   "execution_count": 11,
   "metadata": {},
   "outputs": [
    {
     "data": {
      "image/png": "[encoded data removed]",
      "text/plain": [
       "<Figure size 1000x500 with 2 Axes>"
      ]
     },
     "metadata": {},
     "output_type": "display_data"
    }
   ],
   "source": [
    "# Create a right-skewed dataset\n",
    "original_data = np.random.exponential(scale=100, size=1000)\n",
    "\n",
    "# Apply Box-Cox transformation\n",
    "transformed_data, lambda_value = boxcox(original_data)\n",
    "\n",
    "# Plot the original and transformed data distributions\n",
    "plt.figure(figsize=(10, 5))\n",
    "plt.subplot(1, 2, 1)\n",
    "plt.title('Original Data (Right-Skewed)')\n",
    "plt.hist(original_data, bins=30, edgecolor='black')\n",
    "plt.xlabel('Values')\n",
    "plt.ylabel('Frequency')\n",
    "plt.subplot(1, 2, 2)\n",
    "plt.title('Box-Cox Transformation')\n",
    "plt.hist(transformed_data, bins=30, edgecolor='black')\n",
    "plt.xlabel('Transformed Values')\n",
    "plt.ylabel('Frequency')\n",
    "plt.tight_layout()\n",
    "plt.show()"
   ]
  },
  {
   "cell_type": "markdown",
   "metadata": {},
   "source": [
    "The Box-Cox transformation helps to stabilize the variance and achieve a more symmetric distribution in the transformed data. This plot demonstrates the effectiveness of the Box-Cox transformation in addressing skewness and making data more suitable for certain types of analyses and modeling tasks."
   ]
  },
  {
   "cell_type": "markdown",
   "metadata": {},
   "source": [
    "### 3.4. Exponential transformations\n",
    "Exponential transformations are used to transform data that is highly skewed, where extreme values cause a long tail in the distribution. The exponential function is used to **expand** (instead of compressing it like in log transformation) the range of the data, making it easier to visualize and analyze.\n",
    "\n",
    "When to use it:\n",
    "* When the data is highly skewed and the distribution has a long tail\n",
    "* Whendata or a specific variable exhibits certain characteristics, related to time-to-event or waiting time phenomena\n",
    "* When dealing with data that follows exponential growth or decay patterns\n",
    "* When the probability of an event occurring in the next instant is independent of the time that has passed since the last event.\n",
    "\n",
    "Warning: \n",
    "* Data must be positive\n",
    "* The use a base of e or the natural exponential function, and negative values when exponentiated, which can lead to complex numbers that might not be suitable for certain types of analyses.\n",
    "* We must be aware of the magnitude of the data values. Exponential transformations can lead to very large values, which could cause overflow in some computational environments."
   ]
  },
  {
   "cell_type": "markdown",
   "metadata": {},
   "source": [
    "## 4. Dealing with categorical data\n",
    "Categorical variables contain discrete values that represent different groups or categories. Effectively preprocessing and engineering these variables is essential to extract valuable insights and enhance the predictive power of machine learning models.\n",
    "\n",
    "There are several techniques to handle categorical data, here we will see three of them:\n",
    "* **One-hot encoding** --> use when dealing with categorical variables with low cardinality and no inherent ordinality\n",
    "* **Label encoding** --> use when dealing with categorical variables with inherent ordinality.\n",
    "* **Target encoding** --> use when dealing with categorical variables that show a strong relationship with the target variable. However, one must be cautios to avoid overfitting and data leakage."
   ]
  },
  {
   "cell_type": "markdown",
   "metadata": {},
   "source": [
    "### 4.1. One-hot encoding\n",
    "One-hot encoding is a technique used to convert categorical variables into a binary matrix. Each category is represented as a binary vector, where all elements are zero except for the category element, which is marked as 1."
   ]
  },
  {
   "cell_type": "code",
   "execution_count": 12,
   "metadata": {},
   "outputs": [
    {
     "data": {
      "text/html": [
       "<div>\n",
       "<style scoped>\n",
       "    .dataframe tbody tr th:only-of-type {\n",
       "        vertical-align: middle;\n",
       "    }\n",
       "\n",
       "    .dataframe tbody tr th {\n",
       "        vertical-align: top;\n",
       "    }\n",
       "\n",
       "    .dataframe thead th {\n",
       "        text-align: right;\n",
       "    }\n",
       "</style>\n",
       "<table border=\"1\" class=\"dataframe\">\n",
       "  <thead>\n",
       "    <tr style=\"text-align: right;\">\n",
       "      <th></th>\n",
       "      <th>ID</th>\n",
       "      <th>Gender</th>\n",
       "    </tr>\n",
       "  </thead>\n",
       "  <tbody>\n",
       "    <tr>\n",
       "      <th>0</th>\n",
       "      <td>1</td>\n",
       "      <td>Female</td>\n",
       "    </tr>\n",
       "    <tr>\n",
       "      <th>1</th>\n",
       "      <td>2</td>\n",
       "      <td>Male</td>\n",
       "    </tr>\n",
       "    <tr>\n",
       "      <th>2</th>\n",
       "      <td>3</td>\n",
       "      <td>Female</td>\n",
       "    </tr>\n",
       "    <tr>\n",
       "      <th>3</th>\n",
       "      <td>4</td>\n",
       "      <td>Female</td>\n",
       "    </tr>\n",
       "    <tr>\n",
       "      <th>4</th>\n",
       "      <td>5</td>\n",
       "      <td>Female</td>\n",
       "    </tr>\n",
       "  </tbody>\n",
       "</table>\n",
       "</div>"
      ],
      "text/plain": [
       "   ID  Gender\n",
       "0   1  Female\n",
       "1   2    Male\n",
       "2   3  Female\n",
       "3   4  Female\n",
       "4   5  Female"
      ]
     },
     "execution_count": 12,
     "metadata": {},
     "output_type": "execute_result"
    }
   ],
   "source": [
    "# Sample dataset\n",
    "genders = [\"Female\", \"Male\", \"Non-Binary\"]\n",
    "data = {\n",
    "    'ID': np.arange(1, 6),\n",
    "    'Gender': [random.choice(genders) for _ in range(5)]\n",
    "}\n",
    "\n",
    "df = pd.DataFrame(data)\n",
    "df"
   ]
  },
  {
   "cell_type": "code",
   "execution_count": 13,
   "metadata": {},
   "outputs": [
    {
     "data": {
      "text/html": [
       "<div>\n",
       "<style scoped>\n",
       "    .dataframe tbody tr th:only-of-type {\n",
       "        vertical-align: middle;\n",
       "    }\n",
       "\n",
       "    .dataframe tbody tr th {\n",
       "        vertical-align: top;\n",
       "    }\n",
       "\n",
       "    .dataframe thead th {\n",
       "        text-align: right;\n",
       "    }\n",
       "</style>\n",
       "<table border=\"1\" class=\"dataframe\">\n",
       "  <thead>\n",
       "    <tr style=\"text-align: right;\">\n",
       "      <th></th>\n",
       "      <th>ID</th>\n",
       "      <th>Gender</th>\n",
       "      <th>Female</th>\n",
       "      <th>Male</th>\n",
       "    </tr>\n",
       "  </thead>\n",
       "  <tbody>\n",
       "    <tr>\n",
       "      <th>0</th>\n",
       "      <td>1</td>\n",
       "      <td>Female</td>\n",
       "      <td>1</td>\n",
       "      <td>0</td>\n",
       "    </tr>\n",
       "    <tr>\n",
       "      <th>1</th>\n",
       "      <td>2</td>\n",
       "      <td>Male</td>\n",
       "      <td>0</td>\n",
       "      <td>1</td>\n",
       "    </tr>\n",
       "    <tr>\n",
       "      <th>2</th>\n",
       "      <td>3</td>\n",
       "      <td>Female</td>\n",
       "      <td>1</td>\n",
       "      <td>0</td>\n",
       "    </tr>\n",
       "    <tr>\n",
       "      <th>3</th>\n",
       "      <td>4</td>\n",
       "      <td>Female</td>\n",
       "      <td>1</td>\n",
       "      <td>0</td>\n",
       "    </tr>\n",
       "    <tr>\n",
       "      <th>4</th>\n",
       "      <td>5</td>\n",
       "      <td>Female</td>\n",
       "      <td>1</td>\n",
       "      <td>0</td>\n",
       "    </tr>\n",
       "  </tbody>\n",
       "</table>\n",
       "</div>"
      ],
      "text/plain": [
       "   ID  Gender  Female  Male\n",
       "0   1  Female       1     0\n",
       "1   2    Male       0     1\n",
       "2   3  Female       1     0\n",
       "3   4  Female       1     0\n",
       "4   5  Female       1     0"
      ]
     },
     "execution_count": 13,
     "metadata": {},
     "output_type": "execute_result"
    }
   ],
   "source": [
    "# One-hot encode\n",
    "one_hot_encoded = pd.get_dummies(df['Gender'], columns=['Gender'])\n",
    "one_hot_encoded = one_hot_encoded.astype(int)\n",
    "\n",
    "# Add the one-hot encoded columns to the original DataFrame\n",
    "df_encoded = pd.concat([df, one_hot_encoded], axis=1)\n",
    "df_encoded"
   ]
  },
  {
   "cell_type": "markdown",
   "metadata": {},
   "source": [
    "### 4.2. Label encoding\n",
    "Label encoding is a technique used to convert categorical variables into numerical labels. Each category is assigned a unique integer value, starting from 0.\n",
    "\n",
    "Label encoding can be useful when there is an inherent order or ranking among the categories. However, it can introduce unintended ordinality, that may mislead the model."
   ]
  },
  {
   "cell_type": "code",
   "execution_count": 14,
   "metadata": {},
   "outputs": [
    {
     "data": {
      "text/html": [
       "<div>\n",
       "<style scoped>\n",
       "    .dataframe tbody tr th:only-of-type {\n",
       "        vertical-align: middle;\n",
       "    }\n",
       "\n",
       "    .dataframe tbody tr th {\n",
       "        vertical-align: top;\n",
       "    }\n",
       "\n",
       "    .dataframe thead th {\n",
       "        text-align: right;\n",
       "    }\n",
       "</style>\n",
       "<table border=\"1\" class=\"dataframe\">\n",
       "  <thead>\n",
       "    <tr style=\"text-align: right;\">\n",
       "      <th></th>\n",
       "      <th>ID</th>\n",
       "      <th>Color</th>\n",
       "      <th>Color_LabelEncoded</th>\n",
       "    </tr>\n",
       "  </thead>\n",
       "  <tbody>\n",
       "    <tr>\n",
       "      <th>0</th>\n",
       "      <td>1</td>\n",
       "      <td>Red</td>\n",
       "      <td>0</td>\n",
       "    </tr>\n",
       "    <tr>\n",
       "      <th>1</th>\n",
       "      <td>2</td>\n",
       "      <td>Blue</td>\n",
       "      <td>1</td>\n",
       "    </tr>\n",
       "    <tr>\n",
       "      <th>2</th>\n",
       "      <td>3</td>\n",
       "      <td>Green</td>\n",
       "      <td>2</td>\n",
       "    </tr>\n",
       "    <tr>\n",
       "      <th>3</th>\n",
       "      <td>4</td>\n",
       "      <td>Red</td>\n",
       "      <td>0</td>\n",
       "    </tr>\n",
       "    <tr>\n",
       "      <th>4</th>\n",
       "      <td>5</td>\n",
       "      <td>Green</td>\n",
       "      <td>2</td>\n",
       "    </tr>\n",
       "  </tbody>\n",
       "</table>\n",
       "</div>"
      ],
      "text/plain": [
       "   ID  Color  Color_LabelEncoded\n",
       "0   1    Red                   0\n",
       "1   2   Blue                   1\n",
       "2   3  Green                   2\n",
       "3   4    Red                   0\n",
       "4   5  Green                   2"
      ]
     },
     "execution_count": 14,
     "metadata": {},
     "output_type": "execute_result"
    }
   ],
   "source": [
    "# Example Data\n",
    "data = {\n",
    "    'ID': [1, 2, 3, 4, 5],\n",
    "    'Color': ['Red', 'Blue', 'Green', 'Red', 'Green']\n",
    "}\n",
    "# Create DataFrame\n",
    "df = pd.DataFrame(data)\n",
    "\n",
    "# Perform Label Encoding\n",
    "unique_colors = df['Color'].unique()\n",
    "color_mapping = {color: i for i, color in enumerate(unique_colors)}\n",
    "df['Color_LabelEncoded'] = df['Color'].map(color_mapping)\n",
    "df"
   ]
  },
  {
   "cell_type": "markdown",
   "metadata": {},
   "source": [
    "### 4.3. Target encoding\n",
    "Target encoding, also known as mean encoding, is a technique that leverages the target variable’s information to transform categorical features into numeric representations. Instead of replacing the categories with numerical labels, target encoding replaces each category with the average value of the target variable for that category.\n",
    "\n",
    "Target encoding can be particularly useful when dealing with high-cardinality categorical variables."
   ]
  },
  {
   "cell_type": "code",
   "execution_count": 15,
   "metadata": {},
   "outputs": [
    {
     "name": "stdout",
     "output_type": "stream",
     "text": [
      "Group:  Chicago\n",
      "   ID     City  Target\n",
      "2   3  Chicago     0.9\n",
      "Group:  Detroit\n",
      "   ID     City  Target\n",
      "1   2  Detroit     0.6\n",
      "3   4  Detroit     0.7\n",
      "Group:  Indianapolis\n",
      "   ID          City  Target\n",
      "0   1  Indianapolis    0.80\n",
      "4   5  Indianapolis    0.75\n"
     ]
    },
    {
     "data": {
      "text/html": [
       "<div>\n",
       "<style scoped>\n",
       "    .dataframe tbody tr th:only-of-type {\n",
       "        vertical-align: middle;\n",
       "    }\n",
       "\n",
       "    .dataframe tbody tr th {\n",
       "        vertical-align: top;\n",
       "    }\n",
       "\n",
       "    .dataframe thead th {\n",
       "        text-align: right;\n",
       "    }\n",
       "</style>\n",
       "<table border=\"1\" class=\"dataframe\">\n",
       "  <thead>\n",
       "    <tr style=\"text-align: right;\">\n",
       "      <th></th>\n",
       "      <th>ID</th>\n",
       "      <th>City</th>\n",
       "      <th>Target</th>\n",
       "      <th>City_TargetEncoded</th>\n",
       "    </tr>\n",
       "  </thead>\n",
       "  <tbody>\n",
       "    <tr>\n",
       "      <th>0</th>\n",
       "      <td>1</td>\n",
       "      <td>Indianapolis</td>\n",
       "      <td>0.80</td>\n",
       "      <td>0.775</td>\n",
       "    </tr>\n",
       "    <tr>\n",
       "      <th>1</th>\n",
       "      <td>2</td>\n",
       "      <td>Detroit</td>\n",
       "      <td>0.60</td>\n",
       "      <td>0.650</td>\n",
       "    </tr>\n",
       "    <tr>\n",
       "      <th>2</th>\n",
       "      <td>3</td>\n",
       "      <td>Chicago</td>\n",
       "      <td>0.90</td>\n",
       "      <td>0.900</td>\n",
       "    </tr>\n",
       "    <tr>\n",
       "      <th>3</th>\n",
       "      <td>4</td>\n",
       "      <td>Detroit</td>\n",
       "      <td>0.70</td>\n",
       "      <td>0.650</td>\n",
       "    </tr>\n",
       "    <tr>\n",
       "      <th>4</th>\n",
       "      <td>5</td>\n",
       "      <td>Indianapolis</td>\n",
       "      <td>0.75</td>\n",
       "      <td>0.775</td>\n",
       "    </tr>\n",
       "  </tbody>\n",
       "</table>\n",
       "</div>"
      ],
      "text/plain": [
       "   ID          City  Target  City_TargetEncoded\n",
       "0   1  Indianapolis    0.80               0.775\n",
       "1   2       Detroit    0.60               0.650\n",
       "2   3       Chicago    0.90               0.900\n",
       "3   4       Detroit    0.70               0.650\n",
       "4   5  Indianapolis    0.75               0.775"
      ]
     },
     "execution_count": 15,
     "metadata": {},
     "output_type": "execute_result"
    }
   ],
   "source": [
    "# Example Data\n",
    "data = {\n",
    "    'ID': [1, 2, 3, 4, 5],\n",
    "    'City': ['Indianapolis', 'Detroit', 'Chicago', 'Detroit', 'Indianapolis'],\n",
    "    'Target': [0.8, 0.6, 0.9, 0.7, 0.75]\n",
    "}\n",
    "# Create DataFrame\n",
    "df = pd.DataFrame(data)\n",
    "\n",
    "\n",
    "#  Group by city and calculate the mean of the target variable\n",
    "groupedcity = df.groupby('City')\n",
    "for name, groups in groupedcity:  # names is the name of the group and groups is the data of the group\n",
    "    print(\"Group: \", name)                     \n",
    "    print(groups)\n",
    "\n",
    "# Perform Target Encoding\n",
    "city_target_mean = df.groupby('City')['Target'].mean()\n",
    "df['City_TargetEncoded'] = df['City'].map(city_target_mean)\n",
    "df"
   ]
  },
  {
   "cell_type": "markdown",
   "metadata": {},
   "source": [
    "## 5. Creating new features or Calculated fields\n",
    "Feature engineering involves creating new features or calculated fields from the existing data to improve the performance of machine learning models. By combining, transforming, or extracting new information from the raw data, we can create more informative features that capture the underlying patterns and relationships in the data."
   ]
  },
  {
   "cell_type": "markdown",
   "metadata": {},
   "source": [
    "There are the various types of calculated fields:\n",
    "\n",
    "* **Mathematical operations**: Addition, subtraction, multiplication, division, etc. Example: calculating the total revenue by multiplying the quantity sold by the unit price.\n",
    "\n",
    "* **Aggregating and grouping**: Aggregation involves summarizing data by grouping it based on certain categorical features and computing statistics, such as *sum*, *mean*, *median*, *mode*, *min*, *max*, etc. Example: calculating the average order value for each customer.\n",
    "\n",
    "* **Time-based calculations**: ommonly used in time-series data or scenarios that include temporal patterns, time lags, rolling averages, and other time-related transformations that can capture trends and seasonality in data. Example: extracting the month and year from the order date.\n",
    "\n",
    "* **Interaction terms and polynomial features**: important for capturing non-linear relationships between features. Combining features can reveal interactions that significantly impact the target variable. Example: creating interaction terms between two features, such as multiplying the age and income of a customer.\n",
    "\n",
    "* **Text and NLP-based calculations**: For datasets containing text data, feature engineering techniques\n",
    "using Natural Language Processing (NLP) can come in handy. This includes text vectorization, text extraction, concatenation, word counts, and a host of other NLP transformations to derive meaningful features from textual information.\n",
    "\n",
    "* **Domain-specific calculations**: Domain-specific feature engineering is extremely common and what makes data scientists stand out. Expert knowledge plays a crucial role in generating relevant calculated fields. Example: calculating the Body Mass Index (BMI) from the weight and height of a person in a health dataset."
   ]
  },
  {
   "cell_type": "markdown",
   "metadata": {},
   "source": [
    "## 6. Feature selection\n",
    "Feature selection is the process of selecting a subset of relevant features from the original set of features to improve the model’s performance. It helps reduce overfitting, improve model interpretability, and reduce computational complexity.\n",
    "\n",
    "In this section, we will explore scenarios where using all available features can lead to the “curse of dimensionality” and why selecting relevant features is crucial to mitigate this issue.\n",
    "\n",
    "Methods for feature selection:\n",
    "* **Filter methods**: rank features based on statistical metrics such as correlation, mutual information, or variance. They are computationally efficient and independent of the chosen machine learning model.\n",
    "    * Information gain\n",
    "    * Chi-square test\n",
    "    * Variance Inflation Factor (VIF) and PCA\n",
    "* **Wrapper methods**: assess feature subsets using a specific machine learning model’s performance as an evaluation metric. They are computationally expensive but can lead to optimal feature subsets for specific models.\n",
    "    * Recursive Feature Elimination (RFE)\n",
    "* **Embedded methods**: they incorporate feature selection into the model training process. These methods assess feature importance during model training and eliminate less relevant features automatically.\n",
    "    * L1 regularization or LASSO\n",
    "    * Decision trees"
   ]
  },
  {
   "cell_type": "markdown",
   "metadata": {},
   "source": [
    "Challenge in Filter and Wrapper methods: we need to define\n",
    "* a threshold or a stopping criterion to determine the optimal number of features to select.\n",
    "* or how large of a performance change they we willing to accept.\n",
    "\n",
    "There isn’t a universal answer to the question of how to set a threshold. We should think about how costs to gather and store our data.\n",
    "\n",
    "### 6.1. Filter methods\n",
    "Filter methods rank features based on statistical metrics such as correlation, mutual information, or variance. They are computationally efficient and independent of the chosen machine learning model.\n",
    "\n",
    "Generally applied during the pre-processing step and are independent of the ML algorithm.\n",
    "\n",
    "#### 6.1.1. Information gain\n",
    "Information gain is a statistical metric used to measure the relevance of a feature to the target variable."
   ]
  },
  {
   "cell_type": "code",
   "execution_count": 16,
   "metadata": {},
   "outputs": [
    {
     "data": {
      "text/html": [
       "<div>\n",
       "<style scoped>\n",
       "    .dataframe tbody tr th:only-of-type {\n",
       "        vertical-align: middle;\n",
       "    }\n",
       "\n",
       "    .dataframe tbody tr th {\n",
       "        vertical-align: top;\n",
       "    }\n",
       "\n",
       "    .dataframe thead th {\n",
       "        text-align: right;\n",
       "    }\n",
       "</style>\n",
       "<table border=\"1\" class=\"dataframe\">\n",
       "  <thead>\n",
       "    <tr style=\"text-align: right;\">\n",
       "      <th></th>\n",
       "      <th>Variable</th>\n",
       "      <th>Information Gain</th>\n",
       "    </tr>\n",
       "  </thead>\n",
       "  <tbody>\n",
       "    <tr>\n",
       "      <th>22</th>\n",
       "      <td>worst perimeter</td>\n",
       "      <td>0.476407</td>\n",
       "    </tr>\n",
       "    <tr>\n",
       "      <th>23</th>\n",
       "      <td>worst area</td>\n",
       "      <td>0.463431</td>\n",
       "    </tr>\n",
       "    <tr>\n",
       "      <th>20</th>\n",
       "      <td>worst radius</td>\n",
       "      <td>0.453524</td>\n",
       "    </tr>\n",
       "    <tr>\n",
       "      <th>7</th>\n",
       "      <td>mean concave points</td>\n",
       "      <td>0.439127</td>\n",
       "    </tr>\n",
       "    <tr>\n",
       "      <th>27</th>\n",
       "      <td>worst concave points</td>\n",
       "      <td>0.437775</td>\n",
       "    </tr>\n",
       "  </tbody>\n",
       "</table>\n",
       "</div>"
      ],
      "text/plain": [
       "                Variable  Information Gain\n",
       "22       worst perimeter          0.476407\n",
       "23            worst area          0.463431\n",
       "20          worst radius          0.453524\n",
       "7    mean concave points          0.439127\n",
       "27  worst concave points          0.437775"
      ]
     },
     "execution_count": 16,
     "metadata": {},
     "output_type": "execute_result"
    }
   ],
   "source": [
    "# Load the breast cancer dataset\n",
    "data = load_breast_cancer()\n",
    "\n",
    "# Separate the features and target variable\n",
    "X = data.data\n",
    "y = data.target\n",
    "\n",
    "# Calculate the information gain for each feature\n",
    "ig = mutual_info_classif(X, y)\n",
    "\n",
    "# Create a DataFrame to display the information gain values\n",
    "ig_variables_df = pd.DataFrame({'Variable': data.feature_names, 'Information Gain': ig})\n",
    "\n",
    "# Sort the DataFrame by information gain\n",
    "ig_variables_df.sort_values(by='Information Gain', ascending=False, inplace=True)\n",
    "\n",
    "# Select the top 5 features with the highest information gain\n",
    "n_variables = 5\n",
    "selected_var = ig_variables_df.head(n_variables)\n",
    "selected_var"
   ]
  },
  {
   "cell_type": "markdown",
   "metadata": {},
   "source": [
    "#### 6.1.2. Chi-square test\n",
    "The chi-square test is a statistical test used to determine the association between two categorical variables. It measures the difference between the observed and expected frequencies of the categories and calculates the statistical significance of the association."
   ]
  },
  {
   "cell_type": "code",
   "execution_count": 17,
   "metadata": {},
   "outputs": [
    {
     "data": {
      "text/html": [
       "<div>\n",
       "<style scoped>\n",
       "    .dataframe tbody tr th:only-of-type {\n",
       "        vertical-align: middle;\n",
       "    }\n",
       "\n",
       "    .dataframe tbody tr th {\n",
       "        vertical-align: top;\n",
       "    }\n",
       "\n",
       "    .dataframe thead th {\n",
       "        text-align: right;\n",
       "    }\n",
       "</style>\n",
       "<table border=\"1\" class=\"dataframe\">\n",
       "  <thead>\n",
       "    <tr style=\"text-align: right;\">\n",
       "      <th></th>\n",
       "      <th>age</th>\n",
       "      <th>marital</th>\n",
       "      <th>default</th>\n",
       "      <th>housing</th>\n",
       "      <th>loan</th>\n",
       "      <th>contact</th>\n",
       "      <th>month</th>\n",
       "      <th>duration</th>\n",
       "      <th>campaign</th>\n",
       "      <th>pdays</th>\n",
       "      <th>previous</th>\n",
       "      <th>emp.var.rate</th>\n",
       "      <th>cons.price.idx</th>\n",
       "      <th>cons.conf.idx</th>\n",
       "      <th>euribor3m</th>\n",
       "      <th>nr.employed</th>\n",
       "      <th>y</th>\n",
       "    </tr>\n",
       "  </thead>\n",
       "  <tbody>\n",
       "    <tr>\n",
       "      <th>0</th>\n",
       "      <td>0.171429</td>\n",
       "      <td>0</td>\n",
       "      <td>0</td>\n",
       "      <td>1</td>\n",
       "      <td>0</td>\n",
       "      <td>0</td>\n",
       "      <td>0</td>\n",
       "      <td>0.133681</td>\n",
       "      <td>0.029412</td>\n",
       "      <td>1.0</td>\n",
       "      <td>0.000000</td>\n",
       "      <td>0.333333</td>\n",
       "      <td>0.269680</td>\n",
       "      <td>0.192469</td>\n",
       "      <td>0.153741</td>\n",
       "      <td>0.512287</td>\n",
       "      <td>0</td>\n",
       "    </tr>\n",
       "    <tr>\n",
       "      <th>1</th>\n",
       "      <td>0.300000</td>\n",
       "      <td>1</td>\n",
       "      <td>0</td>\n",
       "      <td>0</td>\n",
       "      <td>0</td>\n",
       "      <td>1</td>\n",
       "      <td>0</td>\n",
       "      <td>0.094977</td>\n",
       "      <td>0.088235</td>\n",
       "      <td>1.0</td>\n",
       "      <td>0.000000</td>\n",
       "      <td>0.937500</td>\n",
       "      <td>0.698753</td>\n",
       "      <td>0.602510</td>\n",
       "      <td>0.956916</td>\n",
       "      <td>0.859735</td>\n",
       "      <td>0</td>\n",
       "    </tr>\n",
       "    <tr>\n",
       "      <th>2</th>\n",
       "      <td>0.100000</td>\n",
       "      <td>0</td>\n",
       "      <td>0</td>\n",
       "      <td>1</td>\n",
       "      <td>0</td>\n",
       "      <td>1</td>\n",
       "      <td>1</td>\n",
       "      <td>0.062311</td>\n",
       "      <td>0.000000</td>\n",
       "      <td>1.0</td>\n",
       "      <td>0.000000</td>\n",
       "      <td>1.000000</td>\n",
       "      <td>0.882307</td>\n",
       "      <td>0.376569</td>\n",
       "      <td>0.981179</td>\n",
       "      <td>1.000000</td>\n",
       "      <td>0</td>\n",
       "    </tr>\n",
       "    <tr>\n",
       "      <th>4</th>\n",
       "      <td>0.414286</td>\n",
       "      <td>0</td>\n",
       "      <td>0</td>\n",
       "      <td>1</td>\n",
       "      <td>0</td>\n",
       "      <td>0</td>\n",
       "      <td>2</td>\n",
       "      <td>0.015921</td>\n",
       "      <td>0.000000</td>\n",
       "      <td>1.0</td>\n",
       "      <td>0.000000</td>\n",
       "      <td>0.687500</td>\n",
       "      <td>0.389322</td>\n",
       "      <td>0.368201</td>\n",
       "      <td>0.806349</td>\n",
       "      <td>0.877883</td>\n",
       "      <td>0</td>\n",
       "    </tr>\n",
       "    <tr>\n",
       "      <th>5</th>\n",
       "      <td>0.200000</td>\n",
       "      <td>1</td>\n",
       "      <td>0</td>\n",
       "      <td>0</td>\n",
       "      <td>0</td>\n",
       "      <td>0</td>\n",
       "      <td>3</td>\n",
       "      <td>0.035136</td>\n",
       "      <td>0.058824</td>\n",
       "      <td>1.0</td>\n",
       "      <td>0.333333</td>\n",
       "      <td>0.479167</td>\n",
       "      <td>0.778644</td>\n",
       "      <td>0.556485</td>\n",
       "      <td>0.056463</td>\n",
       "      <td>0.000000</td>\n",
       "      <td>0</td>\n",
       "    </tr>\n",
       "  </tbody>\n",
       "</table>\n",
       "</div>"
      ],
      "text/plain": [
       "        age  marital  default  housing  loan  contact  month  duration  \\\n",
       "0  0.171429        0        0        1     0        0      0  0.133681   \n",
       "1  0.300000        1        0        0     0        1      0  0.094977   \n",
       "2  0.100000        0        0        1     0        1      1  0.062311   \n",
       "4  0.414286        0        0        1     0        0      2  0.015921   \n",
       "5  0.200000        1        0        0     0        0      3  0.035136   \n",
       "\n",
       "   campaign  pdays  previous  emp.var.rate  cons.price.idx  cons.conf.idx  \\\n",
       "0  0.029412    1.0  0.000000      0.333333        0.269680       0.192469   \n",
       "1  0.088235    1.0  0.000000      0.937500        0.698753       0.602510   \n",
       "2  0.000000    1.0  0.000000      1.000000        0.882307       0.376569   \n",
       "4  0.000000    1.0  0.000000      0.687500        0.389322       0.368201   \n",
       "5  0.058824    1.0  0.333333      0.479167        0.778644       0.556485   \n",
       "\n",
       "   euribor3m  nr.employed  y  \n",
       "0   0.153741     0.512287  0  \n",
       "1   0.956916     0.859735  0  \n",
       "2   0.981179     1.000000  0  \n",
       "4   0.806349     0.877883  0  \n",
       "5   0.056463     0.000000  0  "
      ]
     },
     "execution_count": 17,
     "metadata": {},
     "output_type": "execute_result"
    }
   ],
   "source": [
    "filepath = \"bank/bank.csv\"\n",
    "fullpath = os.path.join(mainpath, filepath)\n",
    "data = pd.read_csv(fullpath, sep=\";\")  # Load the data\n",
    "\n",
    "# PREPROCESSING THE DATA\n",
    "# Drop some variables to simplify the example\n",
    "data.drop([\"education\", \"job\",\"poutcome\", \"day_of_week\"], axis=1,inplace=True)  # Drop missing values\n",
    "# Drop missing values\n",
    "data = data[(data != 'unknown').all(axis=1)]\n",
    "# Encode categorical variables\n",
    "data[\"marital\"] = data[\"marital\"].map({cat: i for i, cat in enumerate(data['marital'].unique())})\n",
    "data[\"contact\"] = data[\"contact\"].map({cat: i for i, cat in enumerate(data['contact'].unique())})\n",
    "data[\"month\"] = data[\"month\"].map({cat: i for i, cat in enumerate(data['month'].unique())})\n",
    "data[\"default\"] = data[\"default\"].apply(lambda x: 0 if x == \"no\" else 1)\n",
    "data[\"housing\"] = data[\"housing\"].apply(lambda x: 0 if x == \"no\" else 1)\n",
    "data[\"loan\"] = data[\"loan\"].apply(lambda x: 0 if x == \"no\" else 1)\n",
    "data[\"y\"] = data[\"y\"].apply(lambda x: 0 if x == \"no\" else 1)\n",
    "# Features must be non-negative for chi2: Apply Min-Max scaling to numerical data. (we should have checked for outliers first)\n",
    "data[\"age\"] = (data[\"age\"] - data[\"age\"].min()) / (data[\"age\"].max() - data[\"age\"].min())\n",
    "data[\"duration\"] = (data[\"duration\"] - data[\"duration\"].min()) / (data[\"duration\"].max() - data[\"duration\"].min())\n",
    "data[\"campaign\"] = (data[\"campaign\"] - data[\"campaign\"].min()) / (data[\"campaign\"].max() - data[\"campaign\"].min())\n",
    "data[\"pdays\"] = (data[\"pdays\"] - data[\"pdays\"].min()) / (data[\"pdays\"].max() - data[\"pdays\"].min())\n",
    "data[\"previous\"] = (data[\"previous\"] - data[\"previous\"].min()) / (data[\"previous\"].max() - data[\"previous\"].min())\n",
    "data[\"emp.var.rate\"] = (data[\"emp.var.rate\"] - data[\"emp.var.rate\"].min()) / (data[\"emp.var.rate\"].max() - data[\"emp.var.rate\"].min())\n",
    "data[\"cons.price.idx\"] = (data[\"cons.price.idx\"] - data[\"cons.price.idx\"].min()) / (data[\"cons.price.idx\"].max() - data[\"cons.price.idx\"].min())\n",
    "data[\"cons.conf.idx\"] = (data[\"cons.conf.idx\"] - data[\"cons.conf.idx\"].min()) / (data[\"cons.conf.idx\"].max() - data[\"cons.conf.idx\"].min())\n",
    "data[\"euribor3m\"] = (data[\"euribor3m\"] - data[\"euribor3m\"].min()) / (data[\"euribor3m\"].max() - data[\"euribor3m\"].min())\n",
    "data[\"nr.employed\"] = (data[\"nr.employed\"] - data[\"nr.employed\"].min()) / (data[\"nr.employed\"].max() - data[\"nr.employed\"].min())\n",
    "\n",
    "# Show the first 5 rows of the data\n",
    "data.head() "
   ]
  },
  {
   "cell_type": "code",
   "execution_count": 18,
   "metadata": {},
   "outputs": [
    {
     "data": {
      "text/plain": [
       "<Axes: >"
      ]
     },
     "execution_count": 18,
     "metadata": {},
     "output_type": "execute_result"
    },
    {
     "data": {
      "image/png": "[encoded data removed]",
      "text/plain": [
       "<Figure size 640x480 with 1 Axes>"
      ]
     },
     "metadata": {},
     "output_type": "display_data"
    }
   ],
   "source": [
    "X = data.drop('y',axis=1)\n",
    "y = data['y']  # has the client subscribed a term deposit? (binary: \"yes\"=1, \"no\"=0)\n",
    "\n",
    "chi_score, pvalue = chi2(X,y)\n",
    "\n",
    "p_values = pd.Series(pvalue, index = X.columns)\n",
    "p_values.sort_values(ascending = False , inplace = True)\n",
    "\n",
    "p_values.plot.bar()"
   ]
  },
  {
   "cell_type": "markdown",
   "metadata": {},
   "source": [
    "From lesson 2, we know that variables with higher p-values are less likely to be associated with the target variable. Therefore, we can use the p-values from the chi-square test to rank the features based on their association with the target variable."
   ]
  },
  {
   "cell_type": "code",
   "execution_count": 19,
   "metadata": {},
   "outputs": [
    {
     "data": {
      "text/plain": [
       "Index(['default', 'housing', 'marital', 'loan', 'age'], dtype='object')"
      ]
     },
     "execution_count": 19,
     "metadata": {},
     "output_type": "execute_result"
    }
   ],
   "source": [
    "# Select the top 5 features with the highest information gain\n",
    "n_variables = 5\n",
    "selected_var = p_values.head(n_variables)\n",
    "# Get variables names\n",
    "selected_var_names = selected_var.index\n",
    "selected_var_names"
   ]
  },
  {
   "cell_type": "markdown",
   "metadata": {},
   "source": [
    "#### 6.1.3. Variance Inflation Factor (VIF) and PCA \n",
    "Collinear features (or multicollinear features for 3 or more variables) refer to variables that are highly correlated with each other. Such features can introduce redundancy in the dataset and impact model interpretability.\n",
    "\n",
    "Variance Inflation Factor (VIF) can be used to detect collinearity between features. A high VIF score for a feature indicates strong multicollinearity, while a VIF close to 1 indicates no collinearity. To address collinearity, data scientists may choose to remove one of the highly correlated features or perform dimensionality reduction, using techniques such as PCA to create uncorrelated principal components.\n",
    "\n",
    "We will talk about PCA in section 8.\n",
    "\n",
    "**EXAMPLE:** We will use the fetch_california_housing to predict the median house value for California districts, based on information such as the average number of rooms per household and the median house age."
   ]
  },
  {
   "cell_type": "code",
   "execution_count": 20,
   "metadata": {},
   "outputs": [
    {
     "name": "stdout",
     "output_type": "stream",
     "text": [
      "      Feature         VIF\n",
      "0      MedInc   11.511140\n",
      "1    HouseAge    7.195917\n",
      "2    AveRooms   45.993601\n",
      "3   AveBedrms   43.590314\n",
      "4  Population    2.935745\n",
      "5    AveOccup    1.095243\n",
      "6    Latitude  559.874071\n",
      "7   Longitude  633.711654\n"
     ]
    }
   ],
   "source": [
    "# Load the California Housing dataset\n",
    "data = fetch_california_housing()\n",
    "X = pd.DataFrame(data.data, columns=data.feature_names)\n",
    "y = data.target\n",
    "\n",
    "# Function to calculate VIF for each feature\n",
    "def calculate_vif(X):\n",
    "    vif = pd.DataFrame()\n",
    "    vif['Feature'] = X.columns\n",
    "    vif['VIF'] = [variance_inflation_factor(X.values, i) for i in range(X.shape[1])]\n",
    "    return vif\n",
    "\n",
    "# Calculate VIF for the entire feature set\n",
    "vif = calculate_vif(X)\n",
    "print(vif)"
   ]
  },
  {
   "cell_type": "code",
   "execution_count": 21,
   "metadata": {},
   "outputs": [
    {
     "data": {
      "text/html": [
       "<div>\n",
       "<style scoped>\n",
       "    .dataframe tbody tr th:only-of-type {\n",
       "        vertical-align: middle;\n",
       "    }\n",
       "\n",
       "    .dataframe tbody tr th {\n",
       "        vertical-align: top;\n",
       "    }\n",
       "\n",
       "    .dataframe thead th {\n",
       "        text-align: right;\n",
       "    }\n",
       "</style>\n",
       "<table border=\"1\" class=\"dataframe\">\n",
       "  <thead>\n",
       "    <tr style=\"text-align: right;\">\n",
       "      <th></th>\n",
       "      <th>Feature</th>\n",
       "      <th>VIF</th>\n",
       "    </tr>\n",
       "  </thead>\n",
       "  <tbody>\n",
       "    <tr>\n",
       "      <th>0</th>\n",
       "      <td>MedInc</td>\n",
       "      <td>11.511140</td>\n",
       "    </tr>\n",
       "    <tr>\n",
       "      <th>2</th>\n",
       "      <td>AveRooms</td>\n",
       "      <td>45.993601</td>\n",
       "    </tr>\n",
       "    <tr>\n",
       "      <th>3</th>\n",
       "      <td>AveBedrms</td>\n",
       "      <td>43.590314</td>\n",
       "    </tr>\n",
       "    <tr>\n",
       "      <th>6</th>\n",
       "      <td>Latitude</td>\n",
       "      <td>559.874071</td>\n",
       "    </tr>\n",
       "    <tr>\n",
       "      <th>7</th>\n",
       "      <td>Longitude</td>\n",
       "      <td>633.711654</td>\n",
       "    </tr>\n",
       "  </tbody>\n",
       "</table>\n",
       "</div>"
      ],
      "text/plain": [
       "     Feature         VIF\n",
       "0     MedInc   11.511140\n",
       "2   AveRooms   45.993601\n",
       "3  AveBedrms   43.590314\n",
       "6   Latitude  559.874071\n",
       "7  Longitude  633.711654"
      ]
     },
     "execution_count": 21,
     "metadata": {},
     "output_type": "execute_result"
    }
   ],
   "source": [
    "# Filter features with VIF greater than a threshold\n",
    "threshold = 10\n",
    "high_vif_features = vif[vif['VIF'] > threshold]\n",
    "high_vif_features"
   ]
  },
  {
   "cell_type": "markdown",
   "metadata": {},
   "source": [
    "### 6.2. Wrapper methods\n",
    "Wrapper methods assess feature subsets using a specific machine learning model’s performance as an evaluation metric. \n",
    "\n",
    "They are computationally expensive but can lead to optimal feature subsets for specific models.\n",
    "\n",
    "Lets see an example of a wrapper method:\n",
    "\n",
    "#### 6.2.1. Recursive Feature Elimination (RFE)\n",
    "Recursive Feature Elimination (RFE) is a wrapper method that recursively removes features from the dataset based on their importance. It trains the model on the full feature set and ranks the features based on their importance. The least important features are then removed, and the model is retrained on the reduced feature set. This process is repeated until the desired number of features is reached.\n",
    "\n",
    "RFE is particularly useful when a machine learning model provides feature importance rankings, such\n",
    "as decision trees or linear regression."
   ]
  },
  {
   "cell_type": "code",
   "execution_count": 22,
   "metadata": {},
   "outputs": [
    {
     "name": "stdout",
     "output_type": "stream",
     "text": [
      "['sepal length (cm)', 'sepal width (cm)', 'petal length (cm)', 'petal width (cm)']\n"
     ]
    }
   ],
   "source": [
    "# Load the Iris dataset\n",
    "data = load_iris()\n",
    "X = data.data\n",
    "y = data.target\n",
    "\n",
    "print(data.feature_names)"
   ]
  },
  {
   "cell_type": "code",
   "execution_count": 23,
   "metadata": {},
   "outputs": [
    {
     "name": "stdout",
     "output_type": "stream",
     "text": [
      "Selected Features: [False False  True  True]\n",
      "Feature Ranking: [3 2 1 1]\n"
     ]
    },
    {
     "name": "stderr",
     "output_type": "stream",
     "text": [
      "c:\\Users\\tesal\\miniconda3\\envs\\ds-training\\lib\\site-packages\\sklearn\\linear_model\\_logistic.py:460: ConvergenceWarning: lbfgs failed to converge (status=1):\n",
      "STOP: TOTAL NO. of ITERATIONS REACHED LIMIT.\n",
      "\n",
      "Increase the number of iterations (max_iter) or scale the data as shown in:\n",
      "    https://scikit-learn.org/stable/modules/preprocessing.html\n",
      "Please also refer to the documentation for alternative solver options:\n",
      "    https://scikit-learn.org/stable/modules/linear_model.html#logistic-regression\n",
      "  n_iter_i = _check_optimize_result(\n"
     ]
    },
    {
     "data": {
      "text/plain": [
       "<function print>"
      ]
     },
     "execution_count": 23,
     "metadata": {},
     "output_type": "execute_result"
    }
   ],
   "source": [
    "# Create a logistic regression model\n",
    "# The ML model we use in this example is logistic regression (we'll cover this in more detail in the next chapter)\n",
    "model = LogisticRegression()\n",
    "\n",
    "# Initialize RFE and specify the number of features to select\n",
    "rfe = RFE(model, n_features_to_select=2)\n",
    "# Fit RFE on the data \n",
    "rfe.fit(X, y)\n",
    "\n",
    "# Get the selected features\n",
    "selected_features = rfe.support_\n",
    "print('Selected Features:', selected_features)\n",
    "\n",
    "# Get the feature ranking\n",
    "feature_ranking = rfe.ranking_\n",
    "print('Feature Ranking:', feature_ranking)\n",
    "\n",
    "# Get the names of the selected features\n",
    "selected_features_names = [data.feature_names[id] for id in np.where(selected_features)[0]]\n",
    "print"
   ]
  },
  {
   "cell_type": "markdown",
   "metadata": {},
   "source": [
    "We use an instance of the RFE function to wrap our logistic model in. We state that we want to select the top two features in the dataset.\n",
    "\n",
    "### 6.3. Embedded methods\n",
    "Embedded methods incorporate feature selection into the model training process. These methods assess feature importance during model training and eliminate less relevant features automatically.\n",
    "\n",
    "#### 6.3.1. L1 regularization or LASSO\n",
    "L1 regularization, also known as the Least Absolute Shrinkage and Selection Operator (LASSO), is a statistical method that uses a penalty term (regularization) to automatically select features in machine learning models during training.\n",
    "\n",
    "In the LASSO, the linear regression coefficients are penalized based on the absolute values of the coefficients. This penalty encourages some of the coefficients to be exactly zero, effectively\n",
    "performing feature selection by excluding irrelevant features.\n",
    "\n",
    "By driving some feature coefficients to zero, the LASSO automatically selects the most relevant features and performs a form of dimensionality reduction.\n",
    "\n",
    "It helps to enhance model interpretability and generalization while avoiding the risk of overfitting.\n",
    "\n",
    "Objective function:\n",
    "\n",
    "$$Cost = \\text{MSE} + \\alpha \\sum |w_i|$$\n",
    "\n",
    "where:\n",
    "* MSE is the Mean Squared Error\n",
    "* α is the regularization parameter\n",
    "* w_i is the coefficient of the j-th feature\n",
    "\n",
    "\n",
    "When to use:\n",
    "* number of features >> number of samples\n",
    "* when we want to reduce the number of features to improve model interpretability and generalization\n",
    "\n",
    "**SOME DEFFINITIONS**\n",
    "* **Linear regression** is a supervised learning algorithm used for predicting a continuous target variable based on one or more input features. It finds the linear relationship between the features and the target variable. In LR, when dealing with high-dimensional data or a dataset with many features, there’s a risk of overfitting.\n",
    "    * we will see more about linear regression in the next lesson.\n",
    "\n",
    "* **Overfitting** occurs when the model captures noise in the data and generalizes poorly to new, unseen data. Regularization techniques like L1 regularization can help mitigate this issue by penalizing the coefficients of less important features.\n",
    "\n",
    "* **Regularization** is a method used to add a penalty term to the linear regression equation. This penalty discourages the model from assigning too much importance to any single feature. Lasso Regression is one such regularization technique."
   ]
  },
  {
   "cell_type": "markdown",
   "metadata": {},
   "source": [
    "**EXAMPLE 1:**\n",
    "\n",
    "We will next import the breast cancer dataset from Scikit-learn with the aim of predicting if a tumor is benign or malignant. This is a classification dataset.\n",
    "\n",
    "We will train a logistic regression model to classify the tumors. During the training process, we will use L1 regularization to automatically select the most important features and reduce the dimensionality of the dataset."
   ]
  },
  {
   "cell_type": "code",
   "execution_count": 24,
   "metadata": {},
   "outputs": [
    {
     "data": {
      "text/html": [
       "<div>\n",
       "<style scoped>\n",
       "    .dataframe tbody tr th:only-of-type {\n",
       "        vertical-align: middle;\n",
       "    }\n",
       "\n",
       "    .dataframe tbody tr th {\n",
       "        vertical-align: top;\n",
       "    }\n",
       "\n",
       "    .dataframe thead th {\n",
       "        text-align: right;\n",
       "    }\n",
       "</style>\n",
       "<table border=\"1\" class=\"dataframe\">\n",
       "  <thead>\n",
       "    <tr style=\"text-align: right;\">\n",
       "      <th></th>\n",
       "      <th>mean radius</th>\n",
       "      <th>mean texture</th>\n",
       "      <th>mean perimeter</th>\n",
       "      <th>mean area</th>\n",
       "      <th>mean smoothness</th>\n",
       "      <th>mean compactness</th>\n",
       "      <th>mean concavity</th>\n",
       "      <th>mean concave points</th>\n",
       "      <th>mean symmetry</th>\n",
       "      <th>mean fractal dimension</th>\n",
       "      <th>...</th>\n",
       "      <th>worst radius</th>\n",
       "      <th>worst texture</th>\n",
       "      <th>worst perimeter</th>\n",
       "      <th>worst area</th>\n",
       "      <th>worst smoothness</th>\n",
       "      <th>worst compactness</th>\n",
       "      <th>worst concavity</th>\n",
       "      <th>worst concave points</th>\n",
       "      <th>worst symmetry</th>\n",
       "      <th>worst fractal dimension</th>\n",
       "    </tr>\n",
       "  </thead>\n",
       "  <tbody>\n",
       "    <tr>\n",
       "      <th>293</th>\n",
       "      <td>11.85</td>\n",
       "      <td>17.46</td>\n",
       "      <td>75.54</td>\n",
       "      <td>432.7</td>\n",
       "      <td>0.08372</td>\n",
       "      <td>0.05642</td>\n",
       "      <td>0.026880</td>\n",
       "      <td>0.022800</td>\n",
       "      <td>0.1875</td>\n",
       "      <td>0.05715</td>\n",
       "      <td>...</td>\n",
       "      <td>13.06</td>\n",
       "      <td>25.75</td>\n",
       "      <td>84.35</td>\n",
       "      <td>517.8</td>\n",
       "      <td>0.1369</td>\n",
       "      <td>0.17580</td>\n",
       "      <td>0.13160</td>\n",
       "      <td>0.09140</td>\n",
       "      <td>0.3101</td>\n",
       "      <td>0.07007</td>\n",
       "    </tr>\n",
       "    <tr>\n",
       "      <th>332</th>\n",
       "      <td>11.22</td>\n",
       "      <td>19.86</td>\n",
       "      <td>71.94</td>\n",
       "      <td>387.3</td>\n",
       "      <td>0.10540</td>\n",
       "      <td>0.06779</td>\n",
       "      <td>0.005006</td>\n",
       "      <td>0.007583</td>\n",
       "      <td>0.1940</td>\n",
       "      <td>0.06028</td>\n",
       "      <td>...</td>\n",
       "      <td>11.98</td>\n",
       "      <td>25.78</td>\n",
       "      <td>76.91</td>\n",
       "      <td>436.1</td>\n",
       "      <td>0.1424</td>\n",
       "      <td>0.09669</td>\n",
       "      <td>0.01335</td>\n",
       "      <td>0.02022</td>\n",
       "      <td>0.3292</td>\n",
       "      <td>0.06522</td>\n",
       "    </tr>\n",
       "    <tr>\n",
       "      <th>565</th>\n",
       "      <td>20.13</td>\n",
       "      <td>28.25</td>\n",
       "      <td>131.20</td>\n",
       "      <td>1261.0</td>\n",
       "      <td>0.09780</td>\n",
       "      <td>0.10340</td>\n",
       "      <td>0.144000</td>\n",
       "      <td>0.097910</td>\n",
       "      <td>0.1752</td>\n",
       "      <td>0.05533</td>\n",
       "      <td>...</td>\n",
       "      <td>23.69</td>\n",
       "      <td>38.25</td>\n",
       "      <td>155.00</td>\n",
       "      <td>1731.0</td>\n",
       "      <td>0.1166</td>\n",
       "      <td>0.19220</td>\n",
       "      <td>0.32150</td>\n",
       "      <td>0.16280</td>\n",
       "      <td>0.2572</td>\n",
       "      <td>0.06637</td>\n",
       "    </tr>\n",
       "    <tr>\n",
       "      <th>278</th>\n",
       "      <td>13.59</td>\n",
       "      <td>17.84</td>\n",
       "      <td>86.24</td>\n",
       "      <td>572.3</td>\n",
       "      <td>0.07948</td>\n",
       "      <td>0.04052</td>\n",
       "      <td>0.019970</td>\n",
       "      <td>0.012380</td>\n",
       "      <td>0.1573</td>\n",
       "      <td>0.05520</td>\n",
       "      <td>...</td>\n",
       "      <td>15.50</td>\n",
       "      <td>26.10</td>\n",
       "      <td>98.91</td>\n",
       "      <td>739.1</td>\n",
       "      <td>0.1050</td>\n",
       "      <td>0.07622</td>\n",
       "      <td>0.10600</td>\n",
       "      <td>0.05185</td>\n",
       "      <td>0.2335</td>\n",
       "      <td>0.06263</td>\n",
       "    </tr>\n",
       "    <tr>\n",
       "      <th>489</th>\n",
       "      <td>16.69</td>\n",
       "      <td>20.20</td>\n",
       "      <td>107.10</td>\n",
       "      <td>857.6</td>\n",
       "      <td>0.07497</td>\n",
       "      <td>0.07112</td>\n",
       "      <td>0.036490</td>\n",
       "      <td>0.023070</td>\n",
       "      <td>0.1846</td>\n",
       "      <td>0.05325</td>\n",
       "      <td>...</td>\n",
       "      <td>19.18</td>\n",
       "      <td>26.56</td>\n",
       "      <td>127.30</td>\n",
       "      <td>1084.0</td>\n",
       "      <td>0.1009</td>\n",
       "      <td>0.29200</td>\n",
       "      <td>0.24770</td>\n",
       "      <td>0.08737</td>\n",
       "      <td>0.4677</td>\n",
       "      <td>0.07623</td>\n",
       "    </tr>\n",
       "  </tbody>\n",
       "</table>\n",
       "<p>5 rows × 30 columns</p>\n",
       "</div>"
      ],
      "text/plain": [
       "     mean radius  mean texture  mean perimeter  mean area  mean smoothness  \\\n",
       "293        11.85         17.46           75.54      432.7          0.08372   \n",
       "332        11.22         19.86           71.94      387.3          0.10540   \n",
       "565        20.13         28.25          131.20     1261.0          0.09780   \n",
       "278        13.59         17.84           86.24      572.3          0.07948   \n",
       "489        16.69         20.20          107.10      857.6          0.07497   \n",
       "\n",
       "     mean compactness  mean concavity  mean concave points  mean symmetry  \\\n",
       "293           0.05642        0.026880             0.022800         0.1875   \n",
       "332           0.06779        0.005006             0.007583         0.1940   \n",
       "565           0.10340        0.144000             0.097910         0.1752   \n",
       "278           0.04052        0.019970             0.012380         0.1573   \n",
       "489           0.07112        0.036490             0.023070         0.1846   \n",
       "\n",
       "     mean fractal dimension  ...  worst radius  worst texture  \\\n",
       "293                 0.05715  ...         13.06          25.75   \n",
       "332                 0.06028  ...         11.98          25.78   \n",
       "565                 0.05533  ...         23.69          38.25   \n",
       "278                 0.05520  ...         15.50          26.10   \n",
       "489                 0.05325  ...         19.18          26.56   \n",
       "\n",
       "     worst perimeter  worst area  worst smoothness  worst compactness  \\\n",
       "293            84.35       517.8            0.1369            0.17580   \n",
       "332            76.91       436.1            0.1424            0.09669   \n",
       "565           155.00      1731.0            0.1166            0.19220   \n",
       "278            98.91       739.1            0.1050            0.07622   \n",
       "489           127.30      1084.0            0.1009            0.29200   \n",
       "\n",
       "     worst concavity  worst concave points  worst symmetry  \\\n",
       "293          0.13160               0.09140          0.3101   \n",
       "332          0.01335               0.02022          0.3292   \n",
       "565          0.32150               0.16280          0.2572   \n",
       "278          0.10600               0.05185          0.2335   \n",
       "489          0.24770               0.08737          0.4677   \n",
       "\n",
       "     worst fractal dimension  \n",
       "293                  0.07007  \n",
       "332                  0.06522  \n",
       "565                  0.06637  \n",
       "278                  0.06263  \n",
       "489                  0.07623  \n",
       "\n",
       "[5 rows x 30 columns]"
      ]
     },
     "execution_count": 24,
     "metadata": {},
     "output_type": "execute_result"
    }
   ],
   "source": [
    "breast_cancer = load_breast_cancer()\n",
    "X = pd.DataFrame(breast_cancer.data, columns=breast_cancer.feature_names)\n",
    "y = breast_cancer.target\n",
    "\n",
    "# Split the data into training and testing sets\n",
    "X_train, X_test, y_train, y_test = train_test_split(X, y, random_state=0)\n",
    "\n",
    "X_train.head()"
   ]
  },
  {
   "cell_type": "code",
   "execution_count": 25,
   "metadata": {},
   "outputs": [],
   "source": [
    "# Normalize the data\n",
    "scaler = StandardScaler()\n",
    "scaler.fit(X_train)\n",
    "\n",
    "# select features using logistic regression as a classifier with the LASSO reg.:\n",
    "logreg_feature_selector  = SelectFromModel(LogisticRegression(C=0.5, penalty='l1', solver='liblinear', random_state=10))\n",
    "logreg_feature_selector .fit(scaler.transform(X_train), y_train)\n",
    "\n",
    "# find the names of the set of features that will be removed\n",
    "removed_feats = X_train.columns[(logreg_feature_selector .estimator_.coef_ == 0).ravel().tolist()]\n",
    "\n",
    "# remove the features from the training and testing sets\n",
    "X_train_selected = logreg_feature_selector .transform(scaler.transform(X_train))\n",
    "X_test_selected = logreg_feature_selector .transform(scaler.transform(X_test))"
   ]
  },
  {
   "cell_type": "markdown",
   "metadata": {},
   "source": [
    "Now we are ready to train the model using the selected features and make predictions."
   ]
  },
  {
   "cell_type": "code",
   "execution_count": 26,
   "metadata": {},
   "outputs": [
    {
     "name": "stdout",
     "output_type": "stream",
     "text": [
      "Accuracy: 0.965034965034965\n"
     ]
    }
   ],
   "source": [
    "# Train a logistic regression model on the selected features\n",
    "logreg = LogisticRegression(C=0.5, penalty='l1', solver='liblinear', random_state=10)\n",
    "logreg.fit(X_train_selected, y_train)\n",
    "# Make predictions on the test set\n",
    "y_pred = logreg.predict(X_test_selected)\n",
    "\n",
    "# Evaluate the model\n",
    "accuracy = (y_pred == y_test).mean()\n",
    "print(f\"Accuracy: {accuracy}\")"
   ]
  },
  {
   "cell_type": "markdown",
   "metadata": {},
   "source": [
    "Lets compare the performance of the model with and without feature selection."
   ]
  },
  {
   "cell_type": "code",
   "execution_count": 27,
   "metadata": {},
   "outputs": [
    {
     "name": "stdout",
     "output_type": "stream",
     "text": [
      "Accuracy: 0.951048951048951\n"
     ]
    },
    {
     "name": "stderr",
     "output_type": "stream",
     "text": [
      "c:\\Users\\tesal\\miniconda3\\envs\\ds-training\\lib\\site-packages\\sklearn\\linear_model\\_logistic.py:460: ConvergenceWarning: lbfgs failed to converge (status=1):\n",
      "STOP: TOTAL NO. of ITERATIONS REACHED LIMIT.\n",
      "\n",
      "Increase the number of iterations (max_iter) or scale the data as shown in:\n",
      "    https://scikit-learn.org/stable/modules/preprocessing.html\n",
      "Please also refer to the documentation for alternative solver options:\n",
      "    https://scikit-learn.org/stable/modules/linear_model.html#logistic-regression\n",
      "  n_iter_i = _check_optimize_result(\n"
     ]
    }
   ],
   "source": [
    "# Train a logistic regression model \n",
    "logreg = LogisticRegression()\n",
    "logreg.fit(X_train, y_train)\n",
    "# Make predictions on the test set\n",
    "y_pred = logreg.predict(X_test)\n",
    "\n",
    "# Evaluate the model\n",
    "accuracy = (y_pred == y_test).mean()\n",
    "print(f\"Accuracy: {accuracy}\")"
   ]
  },
  {
   "cell_type": "markdown",
   "metadata": {},
   "source": [
    "**EXAMPLE 2:** \n",
    "\n",
    "We will next import the california housing dataset from Scikit-learn with the aim of predicting house pricing. This is a regression dataset."
   ]
  },
  {
   "cell_type": "code",
   "execution_count": 28,
   "metadata": {},
   "outputs": [
    {
     "name": "stdout",
     "output_type": "stream",
     "text": [
      "Original number of features: 8\n",
      "Selected number of features: 6\n"
     ]
    }
   ],
   "source": [
    "X, y = fetch_california_housing(return_X_y=True, as_frame=True)\n",
    "X_train, X_test, y_train, y_test = train_test_split(X, y, random_state=0)\n",
    "\n",
    "# Normalize the data\n",
    "scaler = StandardScaler()\n",
    "scaler.fit(X_train)\n",
    "\n",
    "# Select features using LASSO regression\n",
    "reg_feature_selector = SelectFromModel(Lasso(alpha=0.03, random_state=10))\n",
    "reg_feature_selector.fit(scaler.transform(X_train), y_train)\n",
    "\n",
    "# Get the selected features\n",
    "X_train_selected = reg_feature_selector.transform(scaler.transform(X_train))\n",
    "X_test_selected = reg_feature_selector.transform(scaler.transform(X_test))\n",
    "\n",
    "print(f\"Original number of features: {X_train.shape[1]}\")\n",
    "print(f\"Selected number of features: {X_train_selected.shape[1]}\")"
   ]
  },
  {
   "cell_type": "markdown",
   "metadata": {},
   "source": [
    "Now we are ready to make predictions and compare it to the model without feature selection."
   ]
  },
  {
   "cell_type": "code",
   "execution_count": 29,
   "metadata": {},
   "outputs": [
    {
     "name": "stdout",
     "output_type": "stream",
     "text": [
      "Mean Squared Error: 0.5633885533867017\n",
      "Mean Squared Error (no feature selection): 0.5404128061709079\n"
     ]
    }
   ],
   "source": [
    "# Make predictions\n",
    "lasso = Lasso(alpha=0.03, random_state=10)  #  feature selection is performed automatically during training\n",
    "lasso.fit(X_train, y_train) \n",
    "y_pred = lasso.predict(X_test)\n",
    "\n",
    "# Evaluate the model\n",
    "mse = ((y_pred - y_test) ** 2).mean()\n",
    "print(f\"Mean Squared Error: {mse}\")\n",
    "\n",
    "# Train a linear regression model\n",
    "linear_reg = LinearRegression()\n",
    "linear_reg.fit(X_train, y_train)\n",
    "y_pred = linear_reg.predict(X_test)\n",
    "\n",
    "# Evaluate the model\n",
    "mse = ((y_pred - y_test) ** 2).mean()\n",
    "print(f\"Mean Squared Error (no feature selection): {mse}\")"
   ]
  },
  {
   "cell_type": "markdown",
   "metadata": {},
   "source": [
    "#### 6.3.2. Decision trees\n",
    "\n",
    "Tree-based models, such as **Random Forest** and **Gradient Boosting**, can provide valuable feature importance scores. These scores indicate the relative importance of each feature in predicting the target variable.\n",
    "\n",
    "Tree-based feature selection uses these importance scores to rank the features and select the best ones. We will talk more about these models in the Machine Learning chapter.\n",
    "\n",
    "Tree-based feature selection is computationally efficient and applicable to both classification and regression tasks. It is particularly useful for identifying relevant features in datasets with a mix of categorical and numerical variables. In addition, tree-based models can handle nonlinear relationships, making them suitable for datasets with complex interactions between features."
   ]
  },
  {
   "cell_type": "code",
   "execution_count": 30,
   "metadata": {},
   "outputs": [
    {
     "name": "stdout",
     "output_type": "stream",
     "text": [
      "<class 'pandas.core.frame.DataFrame'>\n",
      "RangeIndex: 4001 entries, 0 to 4000\n",
      "Data columns (total 9 columns):\n",
      " #   Column       Non-Null Count  Dtype  \n",
      "---  ------       --------------  -----  \n",
      " 0   A_id         4000 non-null   float64\n",
      " 1   Size         4000 non-null   float64\n",
      " 2   Weight       4000 non-null   float64\n",
      " 3   Sweetness    4000 non-null   float64\n",
      " 4   Crunchiness  4000 non-null   float64\n",
      " 5   Juiciness    4000 non-null   float64\n",
      " 6   Ripeness     4000 non-null   float64\n",
      " 7   Acidity      4001 non-null   object \n",
      " 8   Quality      4000 non-null   object \n",
      "dtypes: float64(7), object(2)\n",
      "memory usage: 281.4+ KB\n"
     ]
    }
   ],
   "source": [
    "filepath = \"apples/apple_quality.csv\"\n",
    "fullpath = os.path.join(mainpath, filepath)\n",
    "data = pd.read_csv(fullpath)  # Load the data\n",
    "\n",
    "data.info()  # We have numerical and categorical variables"
   ]
  },
  {
   "cell_type": "code",
   "execution_count": 31,
   "metadata": {},
   "outputs": [
    {
     "name": "stdout",
     "output_type": "stream",
     "text": [
      "Original number of features: 8\n",
      "Selected number of features: 7\n"
     ]
    }
   ],
   "source": [
    "data = data.dropna()\n",
    "X = data.drop(['Quality'], axis = 1)\n",
    "y = data['Quality']\n",
    "\n",
    "X_train, X_test, y_train, y_test = train_test_split(X, y, random_state = 8, test_size = 0.3)\n",
    "\n",
    "# Normalize the data\n",
    "scaler = StandardScaler()\n",
    "X_train_scaled = scaler.fit_transform(X_train)\n",
    "X_test_scaled = scaler.transform(X_test)\n",
    "\n",
    "# Train a Decision Tree Classifier\n",
    "clf = DecisionTreeClassifier(max_depth=16, random_state=8)\n",
    "clf.fit(X_train_scaled, y_train)\n",
    "y_pred = clf.predict(X_test_scaled)\n",
    "\n",
    "# Get feature importances\n",
    "importances = clf.feature_importances_\n",
    "threshold = 0.1  # Play with this threshold to select more or fewer features\n",
    "selected_features = [feat for feat, imp in zip(X.columns, importances) if imp > threshold]\n",
    "\n",
    "# Get the selected features\n",
    "X_train_selected = X_train[selected_features]\n",
    "X_test_selected = X_test[selected_features]\n",
    "\n",
    "print(f\"Original number of features: {X_train.shape[1]}\")\n",
    "print(f\"Selected number of features: {X_train_selected.shape[1]}\")"
   ]
  },
  {
   "cell_type": "code",
   "execution_count": 32,
   "metadata": {},
   "outputs": [
    {
     "name": "stdout",
     "output_type": "stream",
     "text": [
      "Accuracy with selected features: 0.8241666666666667\n",
      "Accuracy with all features: 0.7983333333333333\n"
     ]
    }
   ],
   "source": [
    "# Train a new model using only the selected features\n",
    "clf_selected = DecisionTreeClassifier(max_depth=16, random_state=8)\n",
    "clf_selected.fit(X_train_selected, y_train)\n",
    "\n",
    "# Make predictions on the test set using the model trained with selected features\n",
    "y_pred_selected_features = clf_selected.predict(X_test_selected)\n",
    "\n",
    "# Calculate the accuracy of the model with selected features\n",
    "accuracy_selected_features = accuracy_score(y_test, y_pred_selected_features)\n",
    "print(f\"Accuracy with selected features: {accuracy_selected_features}\")\n",
    "\n",
    "# Make predictions on the test set using the model trained with all features\n",
    "y_pred_all_features = clf.predict(X_test_scaled)\n",
    "\n",
    "# Calculate the accuracy of the model with all features\n",
    "accuracy_all_features = accuracy_score(y_test, y_pred_all_features)\n",
    "print(f\"Accuracy with all features: {accuracy_all_features}\")"
   ]
  },
  {
   "cell_type": "markdown",
   "metadata": {},
   "source": [
    "## 7. Handling imbalanced data\n",
    "Imbalanced data refers to datasets where one class (the minority class) is significantly underrepresented compared to another class (the majority class). The class imbalance can lead to biased and suboptimal model performance, as models tend to favor the majority class, making accurate predictions for the minority class challenging.\n",
    "\n",
    "Since models prioritize the majority class, there are serious consequences of imbalanced data on\n",
    "model training and evaluation."
   ]
  },
  {
   "cell_type": "markdown",
   "metadata": {},
   "source": [
    "* Majority class: refers to the class with the most instances in the dataset.\n",
    "* Minority class: refers to the class with the fewest instances in the dataset.\n",
    "\n",
    "Some remedies for imbalanced data include the following:\n",
    "* **Using different evaluation metrics**: Metrics such as precision, recall, F1-score, and area under the receiver operating characteristic curve (AUC-ROC) are better suited for evaluating model performance on imbalanced data.\n",
    "\n",
    "* **Over-sampling**: This involves generating synthetic samples for the minority class to increase its representation.\n",
    "\n",
    "* **Under-sampling**: This involves randomly removing samples from the majority class to decrease its dominance.\n",
    "\n",
    "* **Random under-sampling and over-sampling:** Python offers libraries such as imbalancedlearn to implement this technique.\n",
    "\n",
    "* **Synthetic minority over-sampling technique (SMOTE):** SMOTE is a popular over-sampling technique that generates synthetic samples by interpolating between neighboring samples of the minority class. You can use SMOTE from the imblearn.over_sampling package in Python.\n",
    "\n",
    "* **Ensemble methods**: Ensemble methods, such as Random Forest and Gradient Boosting, can handle imbalanced data effectively due to their inherent robustness.\n",
    "\n",
    "* **Cost-sensitive learning**: approach that assigns different misclassification costs to different classes, guiding a model to prioritize the minority class.\n",
    "\n",
    "* **Anomaly detection**: Anomaly detection techniques can be useful in handling imbalanced data by identifying and classifying rare instances as anomalies. These algorithms include **Isolation Forest** and **One-Class SVM**.\n",
    "\n",
    "**EXAMPLE:**"
   ]
  },
  {
   "cell_type": "code",
   "execution_count": 33,
   "metadata": {},
   "outputs": [
    {
     "name": "stdout",
     "output_type": "stream",
     "text": [
      "is_medicinal\n",
      "0    140\n",
      "1     10\n",
      "Name: count, dtype: int64\n"
     ]
    },
    {
     "data": {
      "text/html": [
       "<div>\n",
       "<style scoped>\n",
       "    .dataframe tbody tr th:only-of-type {\n",
       "        vertical-align: middle;\n",
       "    }\n",
       "\n",
       "    .dataframe tbody tr th {\n",
       "        vertical-align: top;\n",
       "    }\n",
       "\n",
       "    .dataframe thead th {\n",
       "        text-align: right;\n",
       "    }\n",
       "</style>\n",
       "<table border=\"1\" class=\"dataframe\">\n",
       "  <thead>\n",
       "    <tr style=\"text-align: right;\">\n",
       "      <th></th>\n",
       "      <th>sepal_length</th>\n",
       "      <th>sepal_width</th>\n",
       "      <th>petal_length</th>\n",
       "      <th>petal_width</th>\n",
       "      <th>species</th>\n",
       "      <th>is_medicinal</th>\n",
       "    </tr>\n",
       "  </thead>\n",
       "  <tbody>\n",
       "    <tr>\n",
       "      <th>0</th>\n",
       "      <td>5.1</td>\n",
       "      <td>3.5</td>\n",
       "      <td>1.4</td>\n",
       "      <td>0.2</td>\n",
       "      <td>0</td>\n",
       "      <td>0</td>\n",
       "    </tr>\n",
       "    <tr>\n",
       "      <th>1</th>\n",
       "      <td>4.9</td>\n",
       "      <td>3.0</td>\n",
       "      <td>1.4</td>\n",
       "      <td>0.2</td>\n",
       "      <td>0</td>\n",
       "      <td>0</td>\n",
       "    </tr>\n",
       "    <tr>\n",
       "      <th>2</th>\n",
       "      <td>4.7</td>\n",
       "      <td>3.2</td>\n",
       "      <td>1.3</td>\n",
       "      <td>0.2</td>\n",
       "      <td>0</td>\n",
       "      <td>1</td>\n",
       "    </tr>\n",
       "    <tr>\n",
       "      <th>3</th>\n",
       "      <td>4.6</td>\n",
       "      <td>3.1</td>\n",
       "      <td>1.5</td>\n",
       "      <td>0.2</td>\n",
       "      <td>0</td>\n",
       "      <td>0</td>\n",
       "    </tr>\n",
       "    <tr>\n",
       "      <th>4</th>\n",
       "      <td>5.0</td>\n",
       "      <td>3.6</td>\n",
       "      <td>1.4</td>\n",
       "      <td>0.2</td>\n",
       "      <td>0</td>\n",
       "      <td>0</td>\n",
       "    </tr>\n",
       "  </tbody>\n",
       "</table>\n",
       "</div>"
      ],
      "text/plain": [
       "   sepal_length  sepal_width  petal_length  petal_width  species  is_medicinal\n",
       "0           5.1          3.5           1.4          0.2        0             0\n",
       "1           4.9          3.0           1.4          0.2        0             0\n",
       "2           4.7          3.2           1.3          0.2        0             1\n",
       "3           4.6          3.1           1.5          0.2        0             0\n",
       "4           5.0          3.6           1.4          0.2        0             0"
      ]
     },
     "execution_count": 33,
     "metadata": {},
     "output_type": "execute_result"
    }
   ],
   "source": [
    "# read iris dataset\n",
    "iris = load_iris()\n",
    "data = pd.DataFrame(iris.data, columns=iris.feature_names)\n",
    "data.columns = ['sepal_length', 'sepal_width', 'petal_length', 'petal_width']\n",
    "y = iris.target\n",
    "data[\"species\"] = y\n",
    "\n",
    "# Artificially introduce a new column with class imbalance\n",
    "data['is_medicinal'] = np.random.choice([0, 1], size=data.shape[0], p=[0.95, 0.05])\n",
    "print(data['is_medicinal'].value_counts())\n",
    "\n",
    "data.head()"
   ]
  },
  {
   "cell_type": "markdown",
   "metadata": {},
   "source": [
    "* **Random Over-sampling**"
   ]
  },
  {
   "cell_type": "code",
   "execution_count": 34,
   "metadata": {},
   "outputs": [
    {
     "data": {
      "text/plain": [
       "is_medicinal\n",
       "0    140\n",
       "1    140\n",
       "Name: count, dtype: int64"
      ]
     },
     "execution_count": 34,
     "metadata": {},
     "output_type": "execute_result"
    }
   ],
   "source": [
    "X = data.copy()\n",
    "\n",
    "# Separate the majority and minority classes\n",
    "majority_class = X[X['is_medicinal'] == 0]\n",
    "minority_class = X[X['is_medicinal'] == 1]\n",
    "\n",
    "# Upsample\n",
    "minority_upsampled = resample(minority_class, replace=True, n_samples=majority_class.shape[0], random_state=42)\n",
    "\n",
    "# Combine the majority class with the upsampled minority class\n",
    "balanced_data  = pd.concat([majority_class, minority_upsampled])\n",
    "\n",
    "# Check the class distribution\n",
    "balanced_data['is_medicinal'].value_counts()"
   ]
  },
  {
   "cell_type": "markdown",
   "metadata": {},
   "source": [
    "* **Random Under-sampling**"
   ]
  },
  {
   "cell_type": "code",
   "execution_count": 35,
   "metadata": {},
   "outputs": [
    {
     "data": {
      "text/plain": [
       "is_medicinal\n",
       "1    10\n",
       "0    10\n",
       "Name: count, dtype: int64"
      ]
     },
     "execution_count": 35,
     "metadata": {},
     "output_type": "execute_result"
    }
   ],
   "source": [
    "X = data.copy()\n",
    "\n",
    "# Separate the majority and minority classes\n",
    "majority_class = X[X['is_medicinal'] == 0]\n",
    "minority_class = X[X['is_medicinal'] == 1]\n",
    "\n",
    "# Upsample\n",
    "majority_downsampled  = resample(majority_class, replace=False, n_samples=minority_class.shape[0], random_state=42)\n",
    "\n",
    "# Combine the majority class with the upsampled minority class\n",
    "balanced_data  = pd.concat([minority_class, majority_downsampled])\n",
    "\n",
    "# Check the class distribution\n",
    "balanced_data['is_medicinal'].value_counts()"
   ]
  },
  {
   "cell_type": "markdown",
   "metadata": {},
   "source": [
    "* **Synthetic Minority Over-sampling Technique (SMOTE)**"
   ]
  },
  {
   "cell_type": "code",
   "execution_count": 36,
   "metadata": {},
   "outputs": [
    {
     "data": {
      "text/plain": [
       "is_medicinal\n",
       "0    140\n",
       "1    140\n",
       "Name: count, dtype: int64"
      ]
     },
     "execution_count": 36,
     "metadata": {},
     "output_type": "execute_result"
    }
   ],
   "source": [
    "X = data.copy()\n",
    "\n",
    "y = X['is_medicinal']\n",
    "X = X.drop('is_medicinal', axis=1)\n",
    "\n",
    "smote = SMOTE(random_state=42, k_neighbors=2)\n",
    "X_resampled, y_resampled = smote.fit_resample(X, y)\n",
    "\n",
    "y_resampled.value_counts()"
   ]
  },
  {
   "cell_type": "markdown",
   "metadata": {},
   "source": [
    "### 7.2. Cross-Validation\n",
    "Cross-validation is a technique used to evaluate the performance of machine learning models by training and testing on multiple subsets of the dataset. It helps to assess the model’s generalization performance and reduce the risk of overfitting.\n",
    "\n",
    "We can use cross validation to evaluate the performance of the model on imbalanced data and on the different techniques used to handle it.\n",
    "\n",
    "There are several types of cross-validation techniques, including:\n",
    "* **Holding out Cross Validation**\n",
    "* **K-Fold Cross-Validation**\n",
    "* **Leave one out Cross Validation** (LOOCV)"
   ]
  },
  {
   "cell_type": "code",
   "execution_count": 37,
   "metadata": {},
   "outputs": [
    {
     "data": {
      "text/html": [
       "<div>\n",
       "<style scoped>\n",
       "    .dataframe tbody tr th:only-of-type {\n",
       "        vertical-align: middle;\n",
       "    }\n",
       "\n",
       "    .dataframe tbody tr th {\n",
       "        vertical-align: top;\n",
       "    }\n",
       "\n",
       "    .dataframe thead th {\n",
       "        text-align: right;\n",
       "    }\n",
       "</style>\n",
       "<table border=\"1\" class=\"dataframe\">\n",
       "  <thead>\n",
       "    <tr style=\"text-align: right;\">\n",
       "      <th></th>\n",
       "      <th>sepal_length</th>\n",
       "      <th>sepal_width</th>\n",
       "      <th>petal_length</th>\n",
       "      <th>petal_width</th>\n",
       "    </tr>\n",
       "  </thead>\n",
       "  <tbody>\n",
       "    <tr>\n",
       "      <th>0</th>\n",
       "      <td>5.1</td>\n",
       "      <td>3.5</td>\n",
       "      <td>1.4</td>\n",
       "      <td>0.2</td>\n",
       "    </tr>\n",
       "    <tr>\n",
       "      <th>1</th>\n",
       "      <td>4.9</td>\n",
       "      <td>3.0</td>\n",
       "      <td>1.4</td>\n",
       "      <td>0.2</td>\n",
       "    </tr>\n",
       "    <tr>\n",
       "      <th>2</th>\n",
       "      <td>4.7</td>\n",
       "      <td>3.2</td>\n",
       "      <td>1.3</td>\n",
       "      <td>0.2</td>\n",
       "    </tr>\n",
       "    <tr>\n",
       "      <th>3</th>\n",
       "      <td>4.6</td>\n",
       "      <td>3.1</td>\n",
       "      <td>1.5</td>\n",
       "      <td>0.2</td>\n",
       "    </tr>\n",
       "    <tr>\n",
       "      <th>4</th>\n",
       "      <td>5.0</td>\n",
       "      <td>3.6</td>\n",
       "      <td>1.4</td>\n",
       "      <td>0.2</td>\n",
       "    </tr>\n",
       "  </tbody>\n",
       "</table>\n",
       "</div>"
      ],
      "text/plain": [
       "   sepal_length  sepal_width  petal_length  petal_width\n",
       "0           5.1          3.5           1.4          0.2\n",
       "1           4.9          3.0           1.4          0.2\n",
       "2           4.7          3.2           1.3          0.2\n",
       "3           4.6          3.1           1.5          0.2\n",
       "4           5.0          3.6           1.4          0.2"
      ]
     },
     "execution_count": 37,
     "metadata": {},
     "output_type": "execute_result"
    }
   ],
   "source": [
    "X = data.copy()\n",
    "\n",
    "# we'll use the original data to show how to perform cross-validation\n",
    "y = X['species']\n",
    "X = X.drop(['is_medicinal', 'species'], axis=1)\n",
    "\n",
    "# Build a decision tree classifier. We will talk more about this in the next chapter\n",
    "model = DecisionTreeClassifier(criterion = 'gini', max_depth=3)\n",
    "\n",
    "X.head()"
   ]
  },
  {
   "cell_type": "markdown",
   "metadata": {},
   "source": [
    "#### 7.2.1. Holding out Cross Validation\n",
    "Holding out is the traditional approach for cross validation, where the data is simply divided into two parts i.e. the training and the testing part. The data can be divided into 70-30 or 60-40, 75-25 or 80-20, or even 50-50 depending on the use case. During the training phase we would only show the training part of the dataset to the model.\n",
    "\n",
    "We will then compare the results of the model in the training and testing phase.\n",
    "\n",
    "<img src=\"https://d1m75rqqgidzqn.cloudfront.net/wp-data/2020/07/15185319/blogs-15-7-2020-02-1024x565.jpg\" width=\"500\">"
   ]
  },
  {
   "cell_type": "code",
   "execution_count": 38,
   "metadata": {},
   "outputs": [
    {
     "name": "stdout",
     "output_type": "stream",
     "text": [
      "x_train:  (120, 4)\n",
      "x_test:  (30, 4)\n",
      "y_train:  (120,)\n",
      "y_test:  (30,)\n",
      "Accuracy:  96.66666666666667\n"
     ]
    }
   ],
   "source": [
    "# Splitting data into training and testing data set\n",
    "x_train, x_test, y_train, y_test = train_test_split(X, y, test_size=0.2, random_state=40)\n",
    "\n",
    "print(\"x_train: \" ,x_train.shape)\n",
    "print(\"x_test: \" ,x_test.shape)\n",
    "print(\"y_train: \" ,y_train.shape)\n",
    "print(\"y_test: \" ,y_test.shape)\n",
    "\n",
    "# We shall now fit the model only on the training dataset.\n",
    "model.fit(x_train, y_train)\n",
    "# Predicting on test data\n",
    "preds = model.predict(x_test) \n",
    "print(\"Accuracy: \", accuracy_score(y_test,preds)*100)\n"
   ]
  },
  {
   "cell_type": "markdown",
   "metadata": {},
   "source": [
    "#### 7.2.2. K-Fold Cross-Validation\n",
    "As there is never enough data to train your model, removing a part of it for validation poses a problem of underfitting. By reducing the training data, we risk losing important patterns/ trends in data set, which in turn increases error induced by bias. So, what we require is a method that provides ample data for training the model and also leaves ample data for validation. K Fold cross validation does exactly that.\n",
    "\n",
    "<img src=\"https://www.datasciencecentral.com/wp-content/uploads/2021/10/k-fold_cross_validation_en-1.jpg\" width=\"500\">\n",
    "\n",
    "The whole data is divided into k sets of almost equal sizes. The first set is selected as the test set and the model is trained on the remaining k-1 sets. In the second iteration, the 2nd set is selected as a test set and the remaining k-1 sets are used to train the data. This process continues for all the k sets. At the end we are averaging the outputs of k fitted models to get the accuracy score of the model.\n",
    "\n",
    "* Advantages:\n",
    "    * More accurate estimate of out-of-sample accuracy\n",
    "    * More “efficient” use of data as every observation is used for both training and testing\n",
    "* Disadvantages:\n",
    "    * Can be computationally expensive\n",
    "    * Can be slower than other methods"
   ]
  },
  {
   "cell_type": "code",
   "execution_count": 39,
   "metadata": {},
   "outputs": [
    {
     "name": "stdout",
     "output_type": "stream",
     "text": [
      "[0.96666667 0.96666667 0.93333333 1.         1.        ]\n",
      "Accuracy:  97.33333333333334\n"
     ]
    }
   ],
   "source": [
    "scores = cross_val_score(model, X, y, cv=5)  # 5-fold cross-validation\n",
    "print(scores)\n",
    "print(\"Accuracy: \", scores.mean()*100)"
   ]
  },
  {
   "cell_type": "markdown",
   "metadata": {},
   "source": [
    "#### 7.2.3. Leave one out Cross Validation (LOOCV)\n",
    "LOOCV(Leave One Out Cross-Validation) is a type of cross-validation approach in which each observation is considered as the validation set and the rest (N-1) observations are considered as the training set. In LOOCV, fitting of the model is done and predicting using one observation validation set. This process continues ‘N’ times and the average of all these iterations is calculated. This is a special case of K-fold cross-validation in which the number of folds is the same as the number of observations(K = N).\n",
    "\n",
    "<img src=\"https://d2mk45aasx86xg.cloudfront.net/image2_11zon_cac3fb4270.webp\" width=\"500\">\n",
    "\n",
    "* Advantages:\n",
    "    * This method helps to reduce Bias and Randomness.\n",
    "* Disadvantages:\n",
    "    * It is computationally expensive\n",
    "    * LOOCV can lead to high variance in performance estimation because each fold is evaluated on a single data point. Outliers or noisy data can disproportionately influence the results.\n",
    "    * Not recommended if the dataset contains outliers or non-representative points"
   ]
  },
  {
   "cell_type": "code",
   "execution_count": 40,
   "metadata": {},
   "outputs": [
    {
     "name": "stdout",
     "output_type": "stream",
     "text": [
      "Accuracy:  94.66666666666667\n"
     ]
    }
   ],
   "source": [
    "# Perform Leave-One-Out cross-validation\n",
    "scores = cross_val_score(model, X, y, cv=LeaveOneOut())\n",
    "print(\"Accuracy: \", scores.mean()*100)"
   ]
  },
  {
   "cell_type": "markdown",
   "metadata": {},
   "source": [
    "## 8. Reducing dimensionality\n",
    "\n",
    "Dimensionality reduction is the process of reducing the number of input variables in a dataset. It is a critical step in the data preprocessing pipeline, as it helps to address the “curse of dimensionality” and improve the performance of machine learning models.\n",
    "\n",
    "The “curse of dimensionality” leads to increased computational complexity and potential overfitting.\n",
    "\n",
    "Dimensionality reduction methods help to transform data into a lower-dimensional space, enabling easier visualization, improved model performance, and enhanced interpretability.\n",
    "\n",
    "Methods for dimensionality reduction:\n",
    "* **Principal Component Analysis (PCA)**\n",
    "* **Singular Value Decomposition (SVD)**\n",
    "* **t-Distributed Stochastic Neighbor Embedding (t-SNE)**\n",
    "* **Autoencoders**"
   ]
  },
  {
   "cell_type": "markdown",
   "metadata": {},
   "source": [
    "### 8.1. Principal Component Analysis (PCA)\n",
    "\n",
    "Principal Component Analysis (PCA) is a popular dimensionality reduction technique that transforms the original features into a new set of uncorrelated variables (projects data onto orthogonal axes) called principal components. These components capture the maximum variance in the data and are ordered by their importance.\n",
    "\n",
    "The first principal component represents the direction of the highest variance, the second principal component represents the second highest variance, and so on. By selecting a reduced number of principal components, we can project the data onto a lower-dimensional subspace while retaining the most relevant information.\n",
    "\n",
    "PCA is widely used for data visualization, feature extraction, and noise reduction. It helps in identifying the main patterns and trends in data, simplifying data representation, and speeding up machine learning algorithms by reducing computational complexity.\n",
    "\n",
    "**Note:** PCA assumes linearity in the data and may not perform well on complex non-linear relationships."
   ]
  },
  {
   "cell_type": "code",
   "execution_count": 41,
   "metadata": {},
   "outputs": [
    {
     "data": {
      "text/html": [
       "<div>\n",
       "<style scoped>\n",
       "    .dataframe tbody tr th:only-of-type {\n",
       "        vertical-align: middle;\n",
       "    }\n",
       "\n",
       "    .dataframe tbody tr th {\n",
       "        vertical-align: top;\n",
       "    }\n",
       "\n",
       "    .dataframe thead th {\n",
       "        text-align: right;\n",
       "    }\n",
       "</style>\n",
       "<table border=\"1\" class=\"dataframe\">\n",
       "  <thead>\n",
       "    <tr style=\"text-align: right;\">\n",
       "      <th></th>\n",
       "      <th>sl_no</th>\n",
       "      <th>gender</th>\n",
       "      <th>ssc_p</th>\n",
       "      <th>ssc_b</th>\n",
       "      <th>hsc_p</th>\n",
       "      <th>hsc_b</th>\n",
       "      <th>hsc_s</th>\n",
       "      <th>degree_p</th>\n",
       "      <th>degree_t</th>\n",
       "      <th>workex</th>\n",
       "      <th>etest_p</th>\n",
       "      <th>specialisation</th>\n",
       "      <th>mba_p</th>\n",
       "      <th>status</th>\n",
       "      <th>salary</th>\n",
       "    </tr>\n",
       "  </thead>\n",
       "  <tbody>\n",
       "    <tr>\n",
       "      <th>0</th>\n",
       "      <td>1</td>\n",
       "      <td>M</td>\n",
       "      <td>67.00</td>\n",
       "      <td>Others</td>\n",
       "      <td>91.00</td>\n",
       "      <td>Others</td>\n",
       "      <td>Commerce</td>\n",
       "      <td>58.00</td>\n",
       "      <td>Sci&amp;Tech</td>\n",
       "      <td>No</td>\n",
       "      <td>55.0</td>\n",
       "      <td>Mkt&amp;HR</td>\n",
       "      <td>58.80</td>\n",
       "      <td>Placed</td>\n",
       "      <td>270000.0</td>\n",
       "    </tr>\n",
       "    <tr>\n",
       "      <th>1</th>\n",
       "      <td>2</td>\n",
       "      <td>M</td>\n",
       "      <td>79.33</td>\n",
       "      <td>Central</td>\n",
       "      <td>78.33</td>\n",
       "      <td>Others</td>\n",
       "      <td>Science</td>\n",
       "      <td>77.48</td>\n",
       "      <td>Sci&amp;Tech</td>\n",
       "      <td>Yes</td>\n",
       "      <td>86.5</td>\n",
       "      <td>Mkt&amp;Fin</td>\n",
       "      <td>66.28</td>\n",
       "      <td>Placed</td>\n",
       "      <td>200000.0</td>\n",
       "    </tr>\n",
       "    <tr>\n",
       "      <th>2</th>\n",
       "      <td>3</td>\n",
       "      <td>M</td>\n",
       "      <td>65.00</td>\n",
       "      <td>Central</td>\n",
       "      <td>68.00</td>\n",
       "      <td>Central</td>\n",
       "      <td>Arts</td>\n",
       "      <td>64.00</td>\n",
       "      <td>Comm&amp;Mgmt</td>\n",
       "      <td>No</td>\n",
       "      <td>75.0</td>\n",
       "      <td>Mkt&amp;Fin</td>\n",
       "      <td>57.80</td>\n",
       "      <td>Placed</td>\n",
       "      <td>250000.0</td>\n",
       "    </tr>\n",
       "    <tr>\n",
       "      <th>3</th>\n",
       "      <td>4</td>\n",
       "      <td>M</td>\n",
       "      <td>56.00</td>\n",
       "      <td>Central</td>\n",
       "      <td>52.00</td>\n",
       "      <td>Central</td>\n",
       "      <td>Science</td>\n",
       "      <td>52.00</td>\n",
       "      <td>Sci&amp;Tech</td>\n",
       "      <td>No</td>\n",
       "      <td>66.0</td>\n",
       "      <td>Mkt&amp;HR</td>\n",
       "      <td>59.43</td>\n",
       "      <td>Not Placed</td>\n",
       "      <td>NaN</td>\n",
       "    </tr>\n",
       "    <tr>\n",
       "      <th>4</th>\n",
       "      <td>5</td>\n",
       "      <td>M</td>\n",
       "      <td>85.80</td>\n",
       "      <td>Central</td>\n",
       "      <td>73.60</td>\n",
       "      <td>Central</td>\n",
       "      <td>Commerce</td>\n",
       "      <td>73.30</td>\n",
       "      <td>Comm&amp;Mgmt</td>\n",
       "      <td>No</td>\n",
       "      <td>96.8</td>\n",
       "      <td>Mkt&amp;Fin</td>\n",
       "      <td>55.50</td>\n",
       "      <td>Placed</td>\n",
       "      <td>425000.0</td>\n",
       "    </tr>\n",
       "  </tbody>\n",
       "</table>\n",
       "</div>"
      ],
      "text/plain": [
       "   sl_no gender  ssc_p    ssc_b  hsc_p    hsc_b     hsc_s  degree_p  \\\n",
       "0      1      M  67.00   Others  91.00   Others  Commerce     58.00   \n",
       "1      2      M  79.33  Central  78.33   Others   Science     77.48   \n",
       "2      3      M  65.00  Central  68.00  Central      Arts     64.00   \n",
       "3      4      M  56.00  Central  52.00  Central   Science     52.00   \n",
       "4      5      M  85.80  Central  73.60  Central  Commerce     73.30   \n",
       "\n",
       "    degree_t workex  etest_p specialisation  mba_p      status    salary  \n",
       "0   Sci&Tech     No     55.0         Mkt&HR  58.80      Placed  270000.0  \n",
       "1   Sci&Tech    Yes     86.5        Mkt&Fin  66.28      Placed  200000.0  \n",
       "2  Comm&Mgmt     No     75.0        Mkt&Fin  57.80      Placed  250000.0  \n",
       "3   Sci&Tech     No     66.0         Mkt&HR  59.43  Not Placed       NaN  \n",
       "4  Comm&Mgmt     No     96.8        Mkt&Fin  55.50      Placed  425000.0  "
      ]
     },
     "execution_count": 41,
     "metadata": {},
     "output_type": "execute_result"
    }
   ],
   "source": [
    "filepath = \"campus-recruitment/Placement_Data_Full_Class.csv\"\n",
    "fullpath = os.path.join(mainpath, filepath)\n",
    "data = pd.read_csv(fullpath)  # Load the data\n",
    "\n",
    "data.head() # Show the first 5 rows of the data"
   ]
  },
  {
   "cell_type": "code",
   "execution_count": 42,
   "metadata": {},
   "outputs": [
    {
     "name": "stdout",
     "output_type": "stream",
     "text": [
      "Number of rows:  215\n",
      "Number of rows with missing values:  67\n"
     ]
    },
    {
     "data": {
      "text/html": [
       "<div>\n",
       "<style scoped>\n",
       "    .dataframe tbody tr th:only-of-type {\n",
       "        vertical-align: middle;\n",
       "    }\n",
       "\n",
       "    .dataframe tbody tr th {\n",
       "        vertical-align: top;\n",
       "    }\n",
       "\n",
       "    .dataframe thead th {\n",
       "        text-align: right;\n",
       "    }\n",
       "</style>\n",
       "<table border=\"1\" class=\"dataframe\">\n",
       "  <thead>\n",
       "    <tr style=\"text-align: right;\">\n",
       "      <th></th>\n",
       "      <th>sl_no</th>\n",
       "      <th>ssc_p</th>\n",
       "      <th>hsc_p</th>\n",
       "      <th>degree_p</th>\n",
       "      <th>etest_p</th>\n",
       "      <th>mba_p</th>\n",
       "      <th>salary</th>\n",
       "      <th>gender_M</th>\n",
       "      <th>ssc_b_Others</th>\n",
       "      <th>hsc_b_Others</th>\n",
       "      <th>hsc_s_Commerce</th>\n",
       "      <th>hsc_s_Science</th>\n",
       "      <th>degree_t_Others</th>\n",
       "      <th>degree_t_Sci&amp;Tech</th>\n",
       "      <th>workex_Yes</th>\n",
       "      <th>specialisation_Mkt&amp;HR</th>\n",
       "    </tr>\n",
       "  </thead>\n",
       "  <tbody>\n",
       "    <tr>\n",
       "      <th>0</th>\n",
       "      <td>1</td>\n",
       "      <td>67.00</td>\n",
       "      <td>91.00</td>\n",
       "      <td>58.00</td>\n",
       "      <td>55.0</td>\n",
       "      <td>58.80</td>\n",
       "      <td>270000.0</td>\n",
       "      <td>True</td>\n",
       "      <td>True</td>\n",
       "      <td>True</td>\n",
       "      <td>True</td>\n",
       "      <td>False</td>\n",
       "      <td>False</td>\n",
       "      <td>True</td>\n",
       "      <td>False</td>\n",
       "      <td>True</td>\n",
       "    </tr>\n",
       "    <tr>\n",
       "      <th>1</th>\n",
       "      <td>2</td>\n",
       "      <td>79.33</td>\n",
       "      <td>78.33</td>\n",
       "      <td>77.48</td>\n",
       "      <td>86.5</td>\n",
       "      <td>66.28</td>\n",
       "      <td>200000.0</td>\n",
       "      <td>True</td>\n",
       "      <td>False</td>\n",
       "      <td>True</td>\n",
       "      <td>False</td>\n",
       "      <td>True</td>\n",
       "      <td>False</td>\n",
       "      <td>True</td>\n",
       "      <td>True</td>\n",
       "      <td>False</td>\n",
       "    </tr>\n",
       "    <tr>\n",
       "      <th>2</th>\n",
       "      <td>3</td>\n",
       "      <td>65.00</td>\n",
       "      <td>68.00</td>\n",
       "      <td>64.00</td>\n",
       "      <td>75.0</td>\n",
       "      <td>57.80</td>\n",
       "      <td>250000.0</td>\n",
       "      <td>True</td>\n",
       "      <td>False</td>\n",
       "      <td>False</td>\n",
       "      <td>False</td>\n",
       "      <td>False</td>\n",
       "      <td>False</td>\n",
       "      <td>False</td>\n",
       "      <td>False</td>\n",
       "      <td>False</td>\n",
       "    </tr>\n",
       "    <tr>\n",
       "      <th>4</th>\n",
       "      <td>5</td>\n",
       "      <td>85.80</td>\n",
       "      <td>73.60</td>\n",
       "      <td>73.30</td>\n",
       "      <td>96.8</td>\n",
       "      <td>55.50</td>\n",
       "      <td>425000.0</td>\n",
       "      <td>True</td>\n",
       "      <td>False</td>\n",
       "      <td>False</td>\n",
       "      <td>True</td>\n",
       "      <td>False</td>\n",
       "      <td>False</td>\n",
       "      <td>False</td>\n",
       "      <td>False</td>\n",
       "      <td>False</td>\n",
       "    </tr>\n",
       "    <tr>\n",
       "      <th>7</th>\n",
       "      <td>8</td>\n",
       "      <td>82.00</td>\n",
       "      <td>64.00</td>\n",
       "      <td>66.00</td>\n",
       "      <td>67.0</td>\n",
       "      <td>62.14</td>\n",
       "      <td>252000.0</td>\n",
       "      <td>True</td>\n",
       "      <td>False</td>\n",
       "      <td>False</td>\n",
       "      <td>False</td>\n",
       "      <td>True</td>\n",
       "      <td>False</td>\n",
       "      <td>True</td>\n",
       "      <td>True</td>\n",
       "      <td>False</td>\n",
       "    </tr>\n",
       "  </tbody>\n",
       "</table>\n",
       "</div>"
      ],
      "text/plain": [
       "   sl_no  ssc_p  hsc_p  degree_p  etest_p  mba_p    salary  gender_M  \\\n",
       "0      1  67.00  91.00     58.00     55.0  58.80  270000.0      True   \n",
       "1      2  79.33  78.33     77.48     86.5  66.28  200000.0      True   \n",
       "2      3  65.00  68.00     64.00     75.0  57.80  250000.0      True   \n",
       "4      5  85.80  73.60     73.30     96.8  55.50  425000.0      True   \n",
       "7      8  82.00  64.00     66.00     67.0  62.14  252000.0      True   \n",
       "\n",
       "   ssc_b_Others  hsc_b_Others  hsc_s_Commerce  hsc_s_Science  degree_t_Others  \\\n",
       "0          True          True            True          False            False   \n",
       "1         False          True           False           True            False   \n",
       "2         False         False           False          False            False   \n",
       "4         False         False            True          False            False   \n",
       "7         False         False           False           True            False   \n",
       "\n",
       "   degree_t_Sci&Tech  workex_Yes  specialisation_Mkt&HR  \n",
       "0               True       False                   True  \n",
       "1               True        True                  False  \n",
       "2              False       False                  False  \n",
       "4              False       False                  False  \n",
       "7               True        True                  False  "
      ]
     },
     "execution_count": 42,
     "metadata": {},
     "output_type": "execute_result"
    }
   ],
   "source": [
    "df = data.copy()\n",
    "# Remove missing values\n",
    "print(\"Number of rows: \", len(data))\n",
    "print(\"Number of rows with missing values: \", df.isnull().sum().sum())  # Check for missing values\n",
    "df = df.dropna()\n",
    "# Perform one-hot encoding\n",
    "categorical_columns = df.columns[df.dtypes == object] # Find all categorical columns\n",
    "df = pd.get_dummies(df, columns = categorical_columns, drop_first=True)\n",
    "df.head()"
   ]
  },
  {
   "cell_type": "code",
   "execution_count": 43,
   "metadata": {},
   "outputs": [
    {
     "name": "stdout",
     "output_type": "stream",
     "text": [
      "Original number of features:  15\n",
      "Reduced number of features:  5\n",
      "Explained Variance Ratio:  [0.19241983 0.16085737 0.12184033 0.09154508 0.08281544]\n"
     ]
    }
   ],
   "source": [
    "# Create training / test split\n",
    "X_train, X_test, y_train, y_test = train_test_split(df[df.columns[df.columns != 'salary']],\n",
    "                                                    df['salary'],\n",
    "                                                    test_size=0.25,\n",
    "                                                    random_state=1)\n",
    "\n",
    "# Standardize the dataset; This is very important before you apply PCA\n",
    "sc = StandardScaler()\n",
    "sc.fit(X_train)\n",
    "X_train_std = sc.transform(X_train)\n",
    "X_test_std = sc.transform(X_test)\n",
    "\n",
    "# Perform PCA\n",
    "pca = PCA(n_components=5)\n",
    "# Get new features\n",
    "X_train_pca = pca.fit_transform(X_train_std)\n",
    "X_test_pca = pca.transform(X_test_std)\n",
    "\n",
    "print(\"Original number of features: \", X_train.shape[1])\n",
    "print(\"Reduced number of features: \", X_train_pca.shape[1])\n",
    "# Print the explained variance ratio of the five principal components\n",
    "print(\"Explained Variance Ratio: \", pca.explained_variance_ratio_)"
   ]
  },
  {
   "cell_type": "markdown",
   "metadata": {},
   "source": [
    "PCA is a very interesting statistical technique. To read more about it, you can check the following link: [PCA](https://www.geeksforgeeks.org/principal-component-analysis-pca/#)"
   ]
  },
  {
   "cell_type": "markdown",
   "metadata": {},
   "source": [
    "### 8.2. Singular Value Decomposition (SVD)\n",
    "Single Value Decomposition (SVD) is a fundamental matrix factorization technique that plays a key role in PCA. SVD is used to decompose a matrix into three matrices, U, Σ, and Vᵀ. U and Vᵀ are orthogonal matrices, while Σ is a diagonal matrix containing the singular values.\n",
    "\n",
    "In PCA, SVD is applied to the centered data to obtain the principal components and explained variance.\n",
    "In Python, we can run SVD like this:"
   ]
  },
  {
   "cell_type": "code",
   "execution_count": 44,
   "metadata": {},
   "outputs": [
    {
     "name": "stdout",
     "output_type": "stream",
     "text": [
      "Original number of variables:  5\n",
      "Reduced number of variables:  2\n"
     ]
    }
   ],
   "source": [
    "# Sample data\n",
    "X = np.random.rand(100, 5)\n",
    "\n",
    "# Center the data\n",
    "X_centered = X - X.mean(axis=0)\n",
    "\n",
    "# Perform SVD\n",
    "U, S, Vt = np.linalg.svd(X_centered, full_matrices=False)\n",
    "\n",
    "# Reduce dimensionality to two dimensions using the first two\n",
    "X_svd = np.matmul(U[:, :2], np.diag(S[:2]))\n",
    "\n",
    "print(\"Original number of variables: \", X.shape[1])\n",
    "print(\"Reduced number of variables: \", X_svd.shape[1])"
   ]
  },
  {
   "cell_type": "markdown",
   "metadata": {},
   "source": [
    "### 8.3. t-Distributed Stochastic Neighbor Embedding (t-SNE)\n",
    "t-distributed Stochastic Neighbor Embedding (t-SNE) is a non-linear dimensionality reduction technique used when data has complex non-linear relationships. t-SNE aims to preserve local and global structures in the data."
   ]
  },
  {
   "cell_type": "code",
   "execution_count": 45,
   "metadata": {},
   "outputs": [
    {
     "name": "stderr",
     "output_type": "stream",
     "text": [
      "Exception in thread Thread-4:\n",
      "Traceback (most recent call last):\n",
      "  File \"c:\\Users\\tesal\\miniconda3\\envs\\ds-training\\lib\\threading.py\", line 932, in _bootstrap_inner\n",
      "    self.run()\n",
      "  File \"c:\\Users\\tesal\\miniconda3\\envs\\ds-training\\lib\\site-packages\\ipykernel\\ipkernel.py\", line 766, in run_closure\n",
      "    _threading_Thread_run(self)\n",
      "  File \"c:\\Users\\tesal\\miniconda3\\envs\\ds-training\\lib\\threading.py\", line 870, in run\n",
      "    self._target(*self._args, **self._kwargs)\n",
      "  File \"c:\\Users\\tesal\\miniconda3\\envs\\ds-training\\lib\\subprocess.py\", line 1386, in _readerthread\n",
      "    buffer.append(fh.read())\n",
      "  File \"c:\\Users\\tesal\\miniconda3\\envs\\ds-training\\lib\\codecs.py\", line 322, in decode\n",
      "    (result, consumed) = self._buffer_decode(data, self.errors, final)\n",
      "UnicodeDecodeError: 'utf-8' codec can't decode byte 0xa0 in position 16: invalid start byte\n",
      "c:\\Users\\tesal\\miniconda3\\envs\\ds-training\\lib\\site-packages\\joblib\\externals\\loky\\backend\\context.py:136: UserWarning: Could not find the number of physical cores for the following reason:\n",
      "found 0 physical cores < 1\n",
      "Returning the number of logical cores instead. You can silence this warning by setting LOKY_MAX_CPU_COUNT to the number of cores you want to use.\n",
      "  warnings.warn(\n",
      "  File \"c:\\Users\\tesal\\miniconda3\\envs\\ds-training\\lib\\site-packages\\joblib\\externals\\loky\\backend\\context.py\", line 282, in _count_physical_cores\n",
      "    raise ValueError(f\"found {cpu_count_physical} physical cores < 1\")\n"
     ]
    },
    {
     "name": "stdout",
     "output_type": "stream",
     "text": [
      "Original number of variables:  5\n",
      "Reduced number of variables:  2\n"
     ]
    }
   ],
   "source": [
    "# Sample data\n",
    "X = np.random.rand(100, 5)\n",
    "\n",
    "# Create a t-SNE instance and fit_transform the data\n",
    "tsne = TSNE(n_components=2)\n",
    "X_tsne = tsne.fit_transform(X)\n",
    "\n",
    "print(\"Original number of variables: \", X.shape[1])\n",
    "print(\"Reduced number of variables: \", X_tsne.shape[1])"
   ]
  },
  {
   "cell_type": "markdown",
   "metadata": {},
   "source": [
    "This code takes our randomly generated data and reduces it to two dimensions. It is important to know as a data scientist that this algorithm needs to compute pair-wise distances for each data point in the dataset. Therefore, the time it takes to run increases with the size of the dataset. So, this may not be a great candidate when you have a large amount of data."
   ]
  },
  {
   "cell_type": "markdown",
   "metadata": {},
   "source": [
    "### 8.4. Autoencoders\n",
    "Autoencoders are neural networks used for unsupervised representation learning and non-linear dimensionality reduction. They consist of an encoder that compresses data into a lower-dimensional\n",
    "representation and a decoder that reconstructs the data from the compressed representation.\n",
    "\n",
    "Here is an example of how to use an autoencoder in Python for dimensionality reduction:\n",
    "\n",
    "We are going to design a model with two layers. The first layer encodes the input data into two dimensions. The last layer decodes that information back.The model attempts to learn a representation, where it first encodes the data and decodes it perfectly. Once the training is done, we can throw away the last layer and only use the encoder portion for dimensionality reduction.\n",
    "\n",
    "We will talk mpore about neural networks in the following lessons."
   ]
  },
  {
   "cell_type": "code",
   "execution_count": 46,
   "metadata": {},
   "outputs": [
    {
     "name": "stdout",
     "output_type": "stream",
     "text": [
      "Model: \"model\"\n",
      "_________________________________________________________________\n",
      " Layer (type)                Output Shape              Param #   \n",
      "=================================================================\n",
      " input_1 (InputLayer)        [(None, 5)]               0         \n",
      "                                                                 \n",
      " dense (Dense)               (None, 2)                 12        \n",
      "                                                                 \n",
      " dense_1 (Dense)             (None, 5)                 15        \n",
      "                                                                 \n",
      "=================================================================\n",
      "Total params: 27\n",
      "Trainable params: 27\n",
      "Non-trainable params: 0\n",
      "_________________________________________________________________\n",
      "None\n",
      "4/4 [==============================] - 0s 1ms/step\n",
      "Original number of variables:  5\n",
      "Reduced number of variables:  2\n"
     ]
    }
   ],
   "source": [
    "X = np.random.rand(100, 5)\n",
    "\n",
    "# Define the autoencoder architecture\n",
    "input_layer = Input(shape=(X.shape[1],))  \n",
    "encoded = Dense(2, activation='relu')(input_layer)  # 2-dimensional encoded representation\n",
    "decoded = Dense(X.shape[1], activation='sigmoid')(encoded)\n",
    "autoencoder = Model(input_layer, decoded)\n",
    "print(autoencoder.summary())\n",
    "\n",
    "# Compile the autoencoder\n",
    "autoencoder.compile(optimizer='adam', loss='mean_squared_error')\n",
    "# Train the autoencoder\n",
    "autoencoder.fit(X, X, epochs=50, batch_size=32, verbose=0)\n",
    "\n",
    "# Obtain the lower-dimensional representation (encoder part of the autoencoder)\n",
    "encoder = Model(input_layer, encoded)\n",
    "X_autoencoder = encoder.predict(X)\n",
    "\n",
    "print(\"Original number of variables: \", X.shape[1])\n",
    "print(\"Reduced number of variables: \", X_autoencoder.shape[1])"
   ]
  },
  {
   "cell_type": "markdown",
   "metadata": {},
   "source": [
    "## 9. Data transformation pipelines\n",
    "Data transformation pipelines are a sequence of data processing steps that are applied sequentially to transform raw data into a format suitable for machine learning models. \n",
    "\n",
    "Pipelines help automate the data preprocessing workflow, ensuring consistency and reproducibility in the analysis."
   ]
  },
  {
   "cell_type": "code",
   "execution_count": 47,
   "metadata": {},
   "outputs": [
    {
     "data": {
      "text/html": [
       "<div>\n",
       "<style scoped>\n",
       "    .dataframe tbody tr th:only-of-type {\n",
       "        vertical-align: middle;\n",
       "    }\n",
       "\n",
       "    .dataframe tbody tr th {\n",
       "        vertical-align: top;\n",
       "    }\n",
       "\n",
       "    .dataframe thead th {\n",
       "        text-align: right;\n",
       "    }\n",
       "</style>\n",
       "<table border=\"1\" class=\"dataframe\">\n",
       "  <thead>\n",
       "    <tr style=\"text-align: right;\">\n",
       "      <th></th>\n",
       "      <th>sepal length (cm)</th>\n",
       "      <th>sepal width (cm)</th>\n",
       "      <th>petal length (cm)</th>\n",
       "      <th>petal width (cm)</th>\n",
       "    </tr>\n",
       "  </thead>\n",
       "  <tbody>\n",
       "    <tr>\n",
       "      <th>0</th>\n",
       "      <td>5.1</td>\n",
       "      <td>3.5</td>\n",
       "      <td>1.4</td>\n",
       "      <td>0.2</td>\n",
       "    </tr>\n",
       "    <tr>\n",
       "      <th>1</th>\n",
       "      <td>4.9</td>\n",
       "      <td>3.0</td>\n",
       "      <td>1.4</td>\n",
       "      <td>0.2</td>\n",
       "    </tr>\n",
       "    <tr>\n",
       "      <th>2</th>\n",
       "      <td>4.7</td>\n",
       "      <td>3.2</td>\n",
       "      <td>1.3</td>\n",
       "      <td>0.2</td>\n",
       "    </tr>\n",
       "    <tr>\n",
       "      <th>3</th>\n",
       "      <td>4.6</td>\n",
       "      <td>3.1</td>\n",
       "      <td>1.5</td>\n",
       "      <td>0.2</td>\n",
       "    </tr>\n",
       "    <tr>\n",
       "      <th>4</th>\n",
       "      <td>5.0</td>\n",
       "      <td>3.6</td>\n",
       "      <td>1.4</td>\n",
       "      <td>0.2</td>\n",
       "    </tr>\n",
       "  </tbody>\n",
       "</table>\n",
       "</div>"
      ],
      "text/plain": [
       "   sepal length (cm)  sepal width (cm)  petal length (cm)  petal width (cm)\n",
       "0                5.1               3.5                1.4               0.2\n",
       "1                4.9               3.0                1.4               0.2\n",
       "2                4.7               3.2                1.3               0.2\n",
       "3                4.6               3.1                1.5               0.2\n",
       "4                5.0               3.6                1.4               0.2"
      ]
     },
     "execution_count": 47,
     "metadata": {},
     "output_type": "execute_result"
    }
   ],
   "source": [
    "# Load the Iris dataset\n",
    "data = load_iris()\n",
    "X = data.data\n",
    "y = data.target\n",
    "\n",
    "df = pd.DataFrame(X, columns=data.feature_names)\n",
    "df.head()"
   ]
  },
  {
   "cell_type": "code",
   "execution_count": 48,
   "metadata": {},
   "outputs": [],
   "source": [
    "# 1. Split the data into training and testing sets\n",
    "X_train, X_test, y_train, y_test = train_test_split(X, y, test_size=0.2, random_state=42)\n",
    "\n",
    "# 2. Create the data transformation task pipeline. In this example, we will use StandardScaler and PCA:\n",
    "pipeline = Pipeline([ ('scaler', StandardScaler()), ('pca', PCA(n_components=2))])\n",
    "\n",
    "# 3. Fit and transform the task to the training set:\n",
    "X_train_transformed = pipeline.fit_transform(X_train, y_train)\n",
    "\n",
    "# 4. Transform the testing set with the training set task pipeline:\n",
    "X_test_transformed = pipeline.transform(X_test)"
   ]
  }
 ],
 "metadata": {
  "kernelspec": {
   "display_name": "ds-training",
   "language": "python",
   "name": "python3"
  },
  "language_info": {
   "codemirror_mode": {
    "name": "ipython",
    "version": 3
   },
   "file_extension": ".py",
   "mimetype": "text/x-python",
   "name": "python",
   "nbconvert_exporter": "python",
   "pygments_lexer": "ipython3",
   "version": "3.8.20"
  }
 },
 "nbformat": 4,
 "nbformat_minor": 2
}
