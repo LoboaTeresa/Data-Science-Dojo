{
 "cells": [
  {
   "cell_type": "markdown",
   "metadata": {},
   "source": [
    "# 5. Linear regression\n",
    "\n",
    "*Thanks to [geekforgeeks](https://www.geeksforgeeks.org/ml-linear-regression/#)*.\n",
    "\n",
    "Linear regression is a type of supervised machine learning algorithm that calculates the linear relationship between the dependent variable and one or more independent features by fitting a linear equation to observed data.\n",
    "\n",
    "In addition to being a predictive tool, linear regression is the basis for several advanced models. Techniques such as regularization and support vector machines draw inspiration from linear regression and extend its utility.\n",
    "\n",
    "<img src=\"https://miro.medium.com/v2/resize:fit:1400/0*0plB5_YzkViGnD3j.gif\" width=\"400\">\n",
    "\n",
    "**Note 1**: \n",
    "* **Independent features** are also called predictors, inputs, or regressors.\n",
    "* The **dependent variable** is also called the target, output, or response.\n",
    "\n",
    "**Note 2**:\n",
    "* **Linear regression** is for **regression problems**, where the output is a **continuous value**.\n",
    "* For classification problems, where the **output is a discrete value**, **logistic regression** is used.\n",
    "\n",
    "## Overview\n",
    "1. How it works\n",
    "    * 1.1. What is the best fit line?\n",
    "    * 1.2. Cost function for linear regression\n",
    "    * 1.3. Gradient descent\n",
    "2. Assumptions\n",
    "4. Common pitfalls\n",
    "5. Regularization regression (linear regression extended)\n",
    "6. Metrics\n",
    "7. Implementation example"
   ]
  },
  {
   "cell_type": "markdown",
   "metadata": {},
   "source": [
    "## 1. How it works\n",
    "Linear regression works by fitting a linear equation to the observed data.\n",
    "\n",
    "There are two types of linear regression:\n",
    "\n",
    "1. **Simple linear regression**: \n",
    "This is the simplest form of linear regression, and it involves only one independent variable and one dependent variable. The equation for simple linear regression is:\n",
    "    \n",
    "    $$y = b_0 + b_1x$$\n",
    "    \n",
    "    where:\n",
    "    * $y$ is the dependent variable.\n",
    "    * $b_0$ is the intercept or constant.\n",
    "    * $b_1$ is the coefficient or slope.\n",
    "    * $x$ is the independent feature.\n",
    "\n",
    "2. **Multiple linear regression**:\n",
    "\n",
    "This involves more than one independent variable and one dependent variable. The equation for multiple linear regression is:\n",
    "\n",
    "$$y = b_0 + b_1x_1 + b_2x_2 + ... + b_nx_n$$\n",
    "\n",
    "where:\n",
    "* $y$ is the dependent variable.\n",
    "* $b_0$ is the intercept or constant.\n",
    "* $b_1, b_2, ..., b_n$ are the coefficients.\n",
    "* $x_1, x_2, ..., x_n$ are the independent features.\n",
    "\n",
    "\n",
    "The goal of the algorithm is to find the best Fit Line equation that can predict the values based on the independent variables, which requires finding the optimal values for the coefficients $b_0, b_1, b_2, ..., b_n$.\n",
    "\n",
    "The coefficients are estimated using the least squares method, which minimizes the sum of the squared differences between the observed values and the predicted values."
   ]
  },
  {
   "cell_type": "markdown",
   "metadata": {},
   "source": [
    "### 1.1. What is the best fit line?\n",
    "\n",
    "Our primary objective while using linear regression is to locate the best-fit line, which implies that the error between the predicted and actual values should be kept to a minimum. \n",
    "\n",
    "The best-fit line is the line that minimizes this error.\n",
    "\n",
    "<img src=\"https://media.geeksforgeeks.org/wp-content/uploads/20231129130431/11111111.png\" width=\"400\">\n",
    "\n",
    "Linear regression performs the task to predict a dependent variable value (y) based on a given independent variable (x).\n",
    "\n",
    "We utilize the cost function to compute the best values in order to get the best fit line since different values for weights or the coefficient of lines result in different regression lines.\n",
    "\n",
    "We search for the best values for the coefficients that minimizes the error between the predicted y value (pred) and the true y value (y). \n",
    "\n",
    "$$\\text{minimize} [\\frac{1}{n} \\sum_{i=1}^{n} (\\text{pred}_i - y_i)^2]$$\n",
    "\n",
    "Residuals are the differences between the true value and the predicted value."
   ]
  },
  {
   "cell_type": "markdown",
   "metadata": {},
   "source": [
    "### 1.2. Cost function for linear regression\n",
    "The cost function or the loss function is nothing but the error or difference between the predicted value *pred* and the true value *y* is minimum.\n",
    "\n",
    "The cost function for linear regression is the mean squared error (MSE), which calculates the average of the squared errors between the predicted values *pred_i * and the actual values *y_i*.\n",
    "\n",
    "MSE function can be calculated as:\n",
    "\n",
    "$$Cost function(J) = \\frac{1}{n} \\sum_{i=1}^{n} (\\text{pred}_i - y_i)^2$$\n",
    "\n",
    "Utilizing the MSE function, the iterative process of gradient descent is applied to update the coefficients (b_n). This ensures that the MSE value converges to the global minima, signifying the most accurate fit of the linear regression line to the dataset.\n",
    "\n",
    "### 1.3. Gradient Descent\n",
    "A linear regression model can be trained using the optimization algorithm gradient descent by iteratively modifying the model’s parameters to reduce the mean squared error (MSE) of the model on a training dataset. \n",
    "To update b_n values in order to reduce the Cost function (minimizing RMSE value) and achieve the best-fit line the model uses Gradient Descent.\n",
    "\n",
    "A gradient is nothing but a derivative that defines the effects on outputs of the function with a little bit of variation in inputs.\n",
    "\n",
    "$$J'(b_0) = \\frac{dJ(b_0,b_1)}{db_0} = \\frac{d}{db_0}[\\frac{1}{n} \\sum_{i=1}^{n} (\\text{pred}_i - y_i)^2] = ... = \\frac{2}{n} \\sum_{i=1}^{n} (\\text{pred}_i - y_i)$$\n",
    "\n",
    "$$J'(b_1) = \\frac{dJ(b_0,b_1)}{db_1} = \\frac{d}{db_1}[\\frac{1}{n} \\sum_{i=1}^{n} (\\text{pred}_i - y_i)^2] = ... = \\frac{2}{n} \\sum_{i=1}^{n} (\\text{pred}_i - y_i) * x_i$$\n",
    "\n",
    "Finding the coefficients of a linear equation that best fits the training data is the objective of linear regression. By moving in the direction of the Mean Squared Error negative gradient with respect to the coefficients, the coefficients can be changed. And the respective intercept and coefficient of X will be if α is the learning rate.\n",
    "\n",
    "<img src=\"https://media.geeksforgeeks.org/wp-content/uploads/20230424151248/Gradient-Descent-for-ML-Linear-Regression-(1).webp\" width=\"400\">\n",
    "\n",
    "$$b_0 = b_0 - \\alpha * J'(b_0) = b_0 - \\alpha *  (\\frac{2}{n} \\sum_{i=1}^{n} (\\text{pred}_i - y_i))$$\n",
    "$$b_1 = b_1 - \\alpha * J'(b_1) = b_1 - \\alpha * ( \\frac{2}{n} \\sum_{i=1}^{n} (\\text{pred}_i - y_i) * x_i)$$"
   ]
  },
  {
   "cell_type": "markdown",
   "metadata": {},
   "source": [
    "## 2. Assumptions\n",
    "\n",
    "### 2.1. Simple Linear Regression\n",
    "\n",
    "* **Linearity**: The relationship between the dependent variable and independent features is linear.\n",
    "\n",
    "<img src=\"https://media.geeksforgeeks.org/wp-content/uploads/20231123113044/python-linear-regression-4.png\" width=\"700\">\n",
    "\n",
    "* **Independence**: The independent features are not correlated with each other.\n",
    "\n",
    "* **Homoscedasticity**: When a dataset exhibits homoscedasticity, it implies that the variance of the errors is the same for all values of the predictor variable(s). The opposite of homoscedasticity is heteroscedasticity, which occurs when the variability of the errors (or residuals) or data points changes systematically as you move along the range of the independent variable(s).\n",
    "\n",
    "<img src=\"https://media.geeksforgeeks.org/wp-content/uploads/20231123113103/python-linear-regression-5.png\" width=\"400\">\n",
    "\n",
    "* **Normality**: The residuals (the differences between observed and predicted values)\n",
    "should follow a normal distribution.\n",
    "\n",
    "### 2.2. Multiple Linear Regression\n",
    "For Multiple Linear Regression, all four of the assumptions from Simple Linear Regression apply. In addition to this, below are few more:\n",
    "* **No multicollinearity**: The independent features are not correlated with each other."
   ]
  },
  {
   "cell_type": "markdown",
   "metadata": {},
   "source": [
    "## 3. **Common pitfalls** or challenges in linear regression\n",
    "While linear regression is a valuable tool, there are several pitfalls to watch out for:\n",
    "\n",
    "* **Violating assumptions:** Failing to meet the assumptions of linear regression can lead to inaccurate results and misleading interpretations.\n",
    "\n",
    "*  **Outliers**: Outliers can disproportionately influence the model’s coefficients, leading to an\n",
    "erroneous fit.\n",
    "\n",
    "* **Multicollinearity**: Multicollinearity is when independent variables are highly correlated. When\n",
    "this happens, it can be difficult to discern their individual effects on the dependent variable.\n",
    "\n",
    "*  **Overfitting**: Adding too many variables or polynomial terms can result in overfitting, where\n",
    "the model captures noise in the data rather than the underlying pattern."
   ]
  },
  {
   "cell_type": "markdown",
   "metadata": {},
   "source": [
    "## 4. Regularization regression (linear regression extended)\n",
    "\n",
    "Regularized regression (specifically L1 (lasso) and L2 (ridge) regression) is an extension of linear regression that addresses some of its limitations. While linear regression aims to find the best-fitting\n",
    "line or hyperplane, regularized regression introduces penalty terms to prevent overfitting and improve model performance.\n",
    "\n",
    "Regularization adds a penalty term to the linear regression objective function, which discourages the model from assigning excessively large coefficients to the features. L1 regularization adds the absolute values of the coefficients as penalties, leading to some coefficients being exactly zero, while L2 regularization adds the squared values of the coefficients, which enforces smaller but non-zero coefficients:\n",
    "\n",
    "L1 regularization:\n",
    "$$minimize [ \\sum_{i=1}^{n}(y_i - b_0 - \\sum_{j=1}^{p} b_jx_{ij})^2 + \\lambda \\sum_{j=1}^{p} |b_j|]$$\n",
    "\n",
    "L2 regularization:\n",
    "$$minimize [ \\sum_{i=1}^{n}(y_i - b_0 - \\sum_{j=1}^{p} b_jx_{ij})^2 + \\lambda \\sum_{j=1}^{p} b_j^2]$$\n",
    "\n",
    "L1 and L2 regularization are particularly useful in the following ways:\n",
    "* **Feature selection:** L1 regularization can force some coefficients to be exactly zero, effectively\n",
    "performing feature selection and identifying the most important variables.\n",
    "* **Multicollinearity management**: L2 regularization helps mitigate the effects of multicollinearity\n",
    "by shrinking the coefficients towards zero.\n",
    "* **High-dimensional data:** Regularized regression is valuable when dealing with datasets with a large number of features, preventing overfitting and improving generalization.\n",
    "\n",
    "**Elatic Net** is a combination of L1 and L2 regularization, which combines the benefits of both methods."
   ]
  },
  {
   "cell_type": "markdown",
   "metadata": {},
   "source": [
    "## 5. Metrics\n",
    "A variety of evaluation measures can be used to determine the strength of any linear regression model. Some of the most common metrics include:\n",
    "\n",
    "* **Mean Squared Error (MSE)**: The average of the squared differences between the predicted and actual values. MSE is sensitive to outliers, as it squares the errors.\n",
    "\n",
    "$$MSE = \\frac{1}{n} \\sum_{i=1}^{n} (y_i - \\text{pred}_i)^2$$\n",
    "\n",
    "where:\n",
    "* $n$ is the number of observations or data points.\n",
    "* $y_i$ is the actual value of the ith data point.\n",
    "* $\\text{pred}_i$ is the predicted value of the ith data point.\n",
    "\n",
    "__\n",
    "\n",
    "* **Mean Absolute Error (MAE)**: The average of the absolute differences between the predicted and actual values. MAE is less sensitive to outliers than MSE and is usually used to calculate the accuracy of the regression model. Lower MAE value indicates better model performance. It is not as sensitive to the outliers as we consider absolute differences.\n",
    "\n",
    "$$MAE = \\frac{1}{n} \\sum_{i=1}^{n} |y_i - \\text{pred}_i|$$\n",
    "\n",
    "* **Root Mean Squared Error (RMSE)**: The square root of the average of the squared differences between the predicted and actual values. RMSE is sensitive to outliers, as it squares the errors. RSME is not as good of a metric as R-squared. Root Mean Squared Error can fluctuate when the units of the variables vary since its value is dependent on the variables’ units (it is not a normalized measure).\n",
    "\n",
    "$$RMSE = \\sqrt{\\frac{1}{n} \\sum_{i=1}^{n} (y_i - \\text{pred}_i)^2}$$\n",
    "\n",
    "* **Coefficient of Determination (R-squared, R2)**: R-Squared is a statistic that indicates how much variation the developed model can explain or capture. R2 ranges from 0 to 1, with higher values indicating a better fit. R squared metric is a measure of the proportion of variance in the dependent variable that is explained the independent variables in the model.\n",
    "\n",
    "$$R^2 = 1 - \\frac{RSS}{TSS} = 1 - \\frac{\\sum_{i=2}^{n} (y_i - b_0 - b_1x_i)^2}{\\sum_{i=1}^{n} (y_i - \\bar{y})^2}$$\n",
    "\n",
    "where:\n",
    "* $RSS$ is the residual sum of squares.\n",
    "* $TSS$ is the total sum of squares.\n",
    "* $y_i$ is the actual value of the ith data point.\n",
    "* $\\text{pred}_i$ is the predicted value of the ith data point.\n",
    "* $\\bar{y}$ is the mean of the actual values.\n",
    "\n",
    "__\n",
    "\n",
    "* **Adjusted R-squared**: measures the proportion of variance in the dependent variable that is explained by independent variables in a regression model. Adjusted R-square accounts the number of predictors in the model and penalizes the model for including irrelevant predictors that don’t contribute significantly to explain the variance in the dependent variables. It is useful when comparing models with different numbers of predictors and helps prevent overfitting.\n",
    "\n",
    "$$Adjusted R^2 = 1 - \\frac{(1 - R^2)*(n - 1)}{n - k - 1}$$\n",
    "\n",
    "where:\n",
    "* $n$ is the number of observations.\n",
    "* $k$ is the number of predictors."
   ]
  },
  {
   "cell_type": "markdown",
   "metadata": {},
   "source": [
    "## 6. Implementation example\n",
    "\n",
    "Example using sklear implementation:"
   ]
  },
  {
   "cell_type": "code",
   "execution_count": null,
   "metadata": {},
   "outputs": [
    {
     "name": "stdout",
     "output_type": "stream",
     "text": [
      "Mean Squared Error: 0.56\n"
     ]
    }
   ],
   "source": [
    "from sklearn.model_selection import train_test_split\n",
    "from sklearn.linear_model import LinearRegression\n",
    "from sklearn.metrics import mean_squared_error\n",
    "\n",
    "from sklearn.datasets import fetch_california_housing\n",
    "\n",
    "# Load the dataset\n",
    "housing = fetch_california_housing()\n",
    "X = housing.data\n",
    "y = housing.target\n",
    "X_train, X_test, y_train, y_test = train_test_split(X, y, test_size=0.2, random_state=42)\n",
    "\n",
    "# Train the model and compute error\n",
    "linear_reg = LinearRegression()\n",
    "linear_reg.fit(X_train, y_train)\n",
    "y_pred = linear_reg.predict(X_test)\n",
    "mse = mean_squared_error(y_test, y_pred)\n",
    "print(f'Mean Squared Error: {mse:.2f}')"
   ]
  },
  {
   "cell_type": "markdown",
   "metadata": {},
   "source": [
    "Lets also see this example but explicitly writing our functions for the linear regression model."
   ]
  },
  {
   "cell_type": "code",
   "execution_count": 2,
   "metadata": {},
   "outputs": [],
   "source": [
    "import numpy as np\n",
    "import matplotlib.pyplot as plt\n",
    "import matplotlib.axes as ax\n",
    "from matplotlib.animation import FuncAnimation\n",
    "\n",
    "# Sample data\n",
    "hours_studied = np.array([2, 4, 6, 8, 10, 12, 1])\n",
    "scores = np.array([50, 65, 75, 80, 95, 98, 30])\n",
    "\n",
    "X_train = hours_studied\n",
    "y_train = scores"
   ]
  },
  {
   "cell_type": "code",
   "execution_count": 13,
   "metadata": {},
   "outputs": [],
   "source": [
    "class LinearRegression:\n",
    "    def __init__(self):\n",
    "        self.parameters = {}\n",
    "\n",
    "    def forward_propagation(self, train_input):\n",
    "        \"Calculate the predictions using the formula y = m*x +c\"\n",
    "        m = self.parameters['m']\n",
    "        c = self.parameters['c']\n",
    "        predictions = np.multiply(m, train_input) + c\n",
    "        return predictions \n",
    "\n",
    "    def cost_function(self, predictions, train_output):\n",
    "        \"Compute the MSE between the predicted values and actual values.\"\n",
    "        cost = np.mean((train_output - predictions) ** 2)  # Mean Square Error\n",
    "        return cost \n",
    "\n",
    "    def backward_propagation(self, train_input, train_output, predictions):\n",
    "        \"Calculate the gradients for m and c using partial derivatives of the cost function.\"\n",
    "        df = (predictions-train_output)\n",
    "        # dm= 2/n * mean of (predictions-actual) * input\n",
    "        dm = 2 * np.mean(np.multiply(train_input, df))  # deriv. with respect to m\n",
    "        # dc = 2/n * mean of (predictions-actual)\n",
    "        dc = 2 * np.mean(df)  # deriv. with respect to c\n",
    "        derivatives = {'dm': dm, 'dc': dc} \n",
    "        return derivatives \n",
    "\n",
    "    def update_parameters(self, derivatives, learning_rate):\n",
    "        \"Update m & c by moving in the direction opposite to the gradient, scaled by the learning rate.\"\n",
    "        self.parameters['m'] -= learning_rate * derivatives['dm']\n",
    "        self.parameters['c'] -= learning_rate * derivatives['dc']\n",
    "\n",
    "    def train(self, train_input, train_output, learning_rate, iters):\n",
    "        # Initialize random parameters\n",
    "        self.parameters['m'] = np.random.uniform(0, 1) * -1\n",
    "        self.parameters['c'] = np.random.uniform(0, 1) * -1\n",
    "\n",
    "        # Initialize loss\n",
    "        self.loss = []\n",
    "\n",
    "        for i in range(iters):\n",
    "            # Forward propagation\n",
    "            predictions = self.forward_propagation(train_input)\n",
    "\n",
    "            # Cost function\n",
    "            cost = self.cost_function(predictions, train_output)\n",
    "\n",
    "            # Backward propagation\n",
    "            derivatives = self.backward_propagation(train_input, train_output, predictions)\n",
    "\n",
    "            # Update parameters\n",
    "            self.update_parameters(derivatives, learning_rate)\n",
    "\n",
    "            # Append loss and print\n",
    "            self.loss.append(cost)\n",
    "            print(f\"Iteration = {i + 1}, Loss = {cost}\")\n",
    "\n",
    "        return self.parameters, self.loss"
   ]
  },
  {
   "cell_type": "code",
   "execution_count": 14,
   "metadata": {},
   "outputs": [
    {
     "name": "stdout",
     "output_type": "stream",
     "text": [
      "Mean Squared Error: 421.33\n"
     ]
    }
   ],
   "source": [
    "#Example usage\n",
    "linear_reg = LinearRegression()\n",
    "parameters, loss = linear_reg.train(X_train, y_train, 0.0001, 200)\n",
    "\n",
    "y_pred = parameters['m'] * hours_studied + parameters['c']\n",
    "mse = mean_squared_error(y_train, y_pred)\n",
    "print(f'Mean Squared Error: {mse:.2f}')"
   ]
  },
  {
   "cell_type": "code",
   "execution_count": 15,
   "metadata": {},
   "outputs": [
    {
     "data": {
      "text/plain": [
       "<matplotlib.collections.PathCollection at 0x203e3da2d00>"
      ]
     },
     "execution_count": 15,
     "metadata": {},
     "output_type": "execute_result"
    },
    {
     "data": {
      "image/png": "[encoded data removed]",
      "text/plain": [
       "<Figure size 640x480 with 1 Axes>"
      ]
     },
     "metadata": {},
     "output_type": "display_data"
    }
   ],
   "source": [
    "fig, ax = plt.subplots() \n",
    "x_vals = np.linspace(min(hours_studied), max(hours_studied), 100) \n",
    "line, = ax.plot(x_vals, parameters['m'] * x_vals +\n",
    "                parameters['c'], color='red', label='Regression Line') \n",
    "ax.scatter(hours_studied, y_train, marker='o', color='green', label='Training Data') "
   ]
  }
 ],
 "metadata": {
  "kernelspec": {
   "display_name": "ds-training",
   "language": "python",
   "name": "python3"
  },
  "language_info": {
   "codemirror_mode": {
    "name": "ipython",
    "version": 3
   },
   "file_extension": ".py",
   "mimetype": "text/x-python",
   "name": "python",
   "nbconvert_exporter": "python",
   "pygments_lexer": "ipython3",
   "version": "3.8.20"
  }
 },
 "nbformat": 4,
 "nbformat_minor": 2
}
